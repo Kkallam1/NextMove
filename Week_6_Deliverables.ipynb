{
  "nbformat": 4,
  "nbformat_minor": 0,
  "metadata": {
    "colab": {
      "provenance": []
    },
    "kernelspec": {
      "name": "python3",
      "display_name": "Python 3"
    },
    "language_info": {
      "name": "python"
    }
  },
  "cells": [
    {
      "cell_type": "markdown",
      "source": [
        "# **Employability Analytics: Enhancing Job Search for Cloud Data Professionals**\n",
        "\n",
        "**Week 6 Deliverables**\n",
        "\n",
        "School for Professional Studies, Saint Louis University\n",
        "\n",
        "IS-5960-04 Masters Research Project - 04 (Spring 2025)\n",
        "\n",
        "February 21, 2025\n",
        "\n",
        "Team 17:\n",
        "* Krishna Chaitanya Reddy Kallam\n",
        "* Sai Kandi\n",
        "* Josh Rajesh Reddy Katakam\n",
        "* Jasmithi Karri\n",
        "* Nishanth Kannepogu\n",
        "* Mahender Reddy Kamidi\n",
        "\n",
        "## Introduction\n",
        "\n",
        "In increasingly dynamic job market, Cloud Data Professionals find themselves struggling to identify suitable job postings, salary rates, and desired skill information. In the same way, employers also have difficulty in recruiting qualified professionals and to best use their recruitment choices. The absence of real-time job market visibility results in inefficiencies in both job searching and hiring processes.\n",
        "\n",
        "## Problem statement\n",
        "The purpose of this project is to maximize the effectiveness of job market information by leveraging data from job postings, job salaries, and job skills requirements to enable job seekers and employers to make data-informed decisions. Specifically, we aim to:\n",
        "\n",
        "* Provide real-time information on salary, in-demand skills and hiring behaviour so as to increase job market transparency.\n",
        "\n",
        "* Reduce skill mismatches by exposing what skills are lacking (skill gaps) and relating the abilities of job seekers to market needs.\n",
        "\n",
        "* Optimize the hiring process for companies by providing them with information on job demand, industry growth, and salary benchmarks.\n",
        "\n",
        "Using this structured job information, this platform will equip Cloud Data Professionals with useful and accurate job announcements, professional information and career advice, allowing them to participate in a smarter and more efficient job search process.\n",
        "\n",
        "## Relavant Data to be included"
      ],
      "metadata": {
        "id": "Hx10pt6WtAzu"
      }
    },
    {
      "cell_type": "code",
      "source": [
        "# @title\n",
        "import pandas as pd\n",
        "\n",
        "data = {\n",
        "    \"Action Component\": [\n",
        "        \"Maximize job market transparency\",\n",
        "        \"Provide salary benchmarking\",\n",
        "        \"Match job seekers with required skills\",\n",
        "        \"Analyze job demand by industry\",\n",
        "        \"Improve hiring insights for companies\",\n",
        "        \"Monitor company workforce trends\"\n",
        "    ],\n",
        "    \"Module / Table\": [\n",
        "        \"Jobs\",\n",
        "        \"Salaries\",\n",
        "        \"Skills\",\n",
        "        \"Industries, Job_Industries\",\n",
        "        \"Companies\",\n",
        "        \"Employee_Counts\"\n",
        "    ],\n",
        "    \"Relevant Data Fields\": [\n",
        "        \"job_id, title, description, location, employment_type, job_posting_url\",\n",
        "        \"salary_id, job_id (FK), min_salary, max_salary, med_salary, pay_period, currency, compensation_type\",\n",
        "        \"skill_abr, skill_name\",\n",
        "        \"industry_id, industry_name, job_id (FK)\",\n",
        "        \"company_id, name, description, company_size, country, city\",\n",
        "        \"company_id (FK), employee_count, follower_count, time_recorded\"\n",
        "    ],\n",
        "    \"Description\": [\n",
        "        \"Stores job postings with key details\",\n",
        "        \"Stores salary details for different job roles\",\n",
        "        \"Contains the skills required for job roles\",\n",
        "        \"Links job postings with industries for trend analysis\",\n",
        "        \"Stores company details and hiring trends\",\n",
        "        \"Tracks company size, employee growth, and LinkedIn followers\"\n",
        "    ]\n",
        "}\n",
        "\n",
        "df = pd.DataFrame(data)\n",
        "\n",
        "pd.set_option('display.max_colwidth', None)\n",
        "pd.set_option('display.expand_frame_repr', False)\n",
        "\n",
        "from IPython.display import display\n",
        "display(df)"
      ],
      "metadata": {
        "colab": {
          "base_uri": "https://localhost:8080/",
          "height": 341
        },
        "cellView": "form",
        "id": "ecSINqQi-POr",
        "outputId": "903fd499-6f9a-42b6-b725-b992e418f55f"
      },
      "execution_count": 13,
      "outputs": [
        {
          "output_type": "display_data",
          "data": {
            "text/plain": [
              "                         Action Component              Module / Table                                                                                 Relevant Data Fields                                                   Description\n",
              "0        Maximize job market transparency                        Jobs                               job_id, title, description, location, employment_type, job_posting_url                          Stores job postings with key details\n",
              "1             Provide salary benchmarking                    Salaries  salary_id, job_id (FK), min_salary, max_salary, med_salary, pay_period, currency, compensation_type                 Stores salary details for different job roles\n",
              "2  Match job seekers with required skills                      Skills                                                                                skill_abr, skill_name                    Contains the skills required for job roles\n",
              "3          Analyze job demand by industry  Industries, Job_Industries                                                              industry_id, industry_name, job_id (FK)         Links job postings with industries for trend analysis\n",
              "4   Improve hiring insights for companies                   Companies                                           company_id, name, description, company_size, country, city                      Stores company details and hiring trends\n",
              "5        Monitor company workforce trends             Employee_Counts                                       company_id (FK), employee_count, follower_count, time_recorded  Tracks company size, employee growth, and LinkedIn followers"
            ],
            "text/html": [
              "\n",
              "  <div id=\"df-c821ebeb-3fe7-4e40-b46b-6c71fc5192ce\" class=\"colab-df-container\">\n",
              "    <div>\n",
              "<style scoped>\n",
              "    .dataframe tbody tr th:only-of-type {\n",
              "        vertical-align: middle;\n",
              "    }\n",
              "\n",
              "    .dataframe tbody tr th {\n",
              "        vertical-align: top;\n",
              "    }\n",
              "\n",
              "    .dataframe thead th {\n",
              "        text-align: right;\n",
              "    }\n",
              "</style>\n",
              "<table border=\"1\" class=\"dataframe\">\n",
              "  <thead>\n",
              "    <tr style=\"text-align: right;\">\n",
              "      <th></th>\n",
              "      <th>Action Component</th>\n",
              "      <th>Module / Table</th>\n",
              "      <th>Relevant Data Fields</th>\n",
              "      <th>Description</th>\n",
              "    </tr>\n",
              "  </thead>\n",
              "  <tbody>\n",
              "    <tr>\n",
              "      <th>0</th>\n",
              "      <td>Maximize job market transparency</td>\n",
              "      <td>Jobs</td>\n",
              "      <td>job_id, title, description, location, employment_type, job_posting_url</td>\n",
              "      <td>Stores job postings with key details</td>\n",
              "    </tr>\n",
              "    <tr>\n",
              "      <th>1</th>\n",
              "      <td>Provide salary benchmarking</td>\n",
              "      <td>Salaries</td>\n",
              "      <td>salary_id, job_id (FK), min_salary, max_salary, med_salary, pay_period, currency, compensation_type</td>\n",
              "      <td>Stores salary details for different job roles</td>\n",
              "    </tr>\n",
              "    <tr>\n",
              "      <th>2</th>\n",
              "      <td>Match job seekers with required skills</td>\n",
              "      <td>Skills</td>\n",
              "      <td>skill_abr, skill_name</td>\n",
              "      <td>Contains the skills required for job roles</td>\n",
              "    </tr>\n",
              "    <tr>\n",
              "      <th>3</th>\n",
              "      <td>Analyze job demand by industry</td>\n",
              "      <td>Industries, Job_Industries</td>\n",
              "      <td>industry_id, industry_name, job_id (FK)</td>\n",
              "      <td>Links job postings with industries for trend analysis</td>\n",
              "    </tr>\n",
              "    <tr>\n",
              "      <th>4</th>\n",
              "      <td>Improve hiring insights for companies</td>\n",
              "      <td>Companies</td>\n",
              "      <td>company_id, name, description, company_size, country, city</td>\n",
              "      <td>Stores company details and hiring trends</td>\n",
              "    </tr>\n",
              "    <tr>\n",
              "      <th>5</th>\n",
              "      <td>Monitor company workforce trends</td>\n",
              "      <td>Employee_Counts</td>\n",
              "      <td>company_id (FK), employee_count, follower_count, time_recorded</td>\n",
              "      <td>Tracks company size, employee growth, and LinkedIn followers</td>\n",
              "    </tr>\n",
              "  </tbody>\n",
              "</table>\n",
              "</div>\n",
              "    <div class=\"colab-df-buttons\">\n",
              "\n",
              "  <div class=\"colab-df-container\">\n",
              "    <button class=\"colab-df-convert\" onclick=\"convertToInteractive('df-c821ebeb-3fe7-4e40-b46b-6c71fc5192ce')\"\n",
              "            title=\"Convert this dataframe to an interactive table.\"\n",
              "            style=\"display:none;\">\n",
              "\n",
              "  <svg xmlns=\"http://www.w3.org/2000/svg\" height=\"24px\" viewBox=\"0 -960 960 960\">\n",
              "    <path d=\"M120-120v-720h720v720H120Zm60-500h600v-160H180v160Zm220 220h160v-160H400v160Zm0 220h160v-160H400v160ZM180-400h160v-160H180v160Zm440 0h160v-160H620v160ZM180-180h160v-160H180v160Zm440 0h160v-160H620v160Z\"/>\n",
              "  </svg>\n",
              "    </button>\n",
              "\n",
              "  <style>\n",
              "    .colab-df-container {\n",
              "      display:flex;\n",
              "      gap: 12px;\n",
              "    }\n",
              "\n",
              "    .colab-df-convert {\n",
              "      background-color: #E8F0FE;\n",
              "      border: none;\n",
              "      border-radius: 50%;\n",
              "      cursor: pointer;\n",
              "      display: none;\n",
              "      fill: #1967D2;\n",
              "      height: 32px;\n",
              "      padding: 0 0 0 0;\n",
              "      width: 32px;\n",
              "    }\n",
              "\n",
              "    .colab-df-convert:hover {\n",
              "      background-color: #E2EBFA;\n",
              "      box-shadow: 0px 1px 2px rgba(60, 64, 67, 0.3), 0px 1px 3px 1px rgba(60, 64, 67, 0.15);\n",
              "      fill: #174EA6;\n",
              "    }\n",
              "\n",
              "    .colab-df-buttons div {\n",
              "      margin-bottom: 4px;\n",
              "    }\n",
              "\n",
              "    [theme=dark] .colab-df-convert {\n",
              "      background-color: #3B4455;\n",
              "      fill: #D2E3FC;\n",
              "    }\n",
              "\n",
              "    [theme=dark] .colab-df-convert:hover {\n",
              "      background-color: #434B5C;\n",
              "      box-shadow: 0px 1px 3px 1px rgba(0, 0, 0, 0.15);\n",
              "      filter: drop-shadow(0px 1px 2px rgba(0, 0, 0, 0.3));\n",
              "      fill: #FFFFFF;\n",
              "    }\n",
              "  </style>\n",
              "\n",
              "    <script>\n",
              "      const buttonEl =\n",
              "        document.querySelector('#df-c821ebeb-3fe7-4e40-b46b-6c71fc5192ce button.colab-df-convert');\n",
              "      buttonEl.style.display =\n",
              "        google.colab.kernel.accessAllowed ? 'block' : 'none';\n",
              "\n",
              "      async function convertToInteractive(key) {\n",
              "        const element = document.querySelector('#df-c821ebeb-3fe7-4e40-b46b-6c71fc5192ce');\n",
              "        const dataTable =\n",
              "          await google.colab.kernel.invokeFunction('convertToInteractive',\n",
              "                                                    [key], {});\n",
              "        if (!dataTable) return;\n",
              "\n",
              "        const docLinkHtml = 'Like what you see? Visit the ' +\n",
              "          '<a target=\"_blank\" href=https://colab.research.google.com/notebooks/data_table.ipynb>data table notebook</a>'\n",
              "          + ' to learn more about interactive tables.';\n",
              "        element.innerHTML = '';\n",
              "        dataTable['output_type'] = 'display_data';\n",
              "        await google.colab.output.renderOutput(dataTable, element);\n",
              "        const docLink = document.createElement('div');\n",
              "        docLink.innerHTML = docLinkHtml;\n",
              "        element.appendChild(docLink);\n",
              "      }\n",
              "    </script>\n",
              "  </div>\n",
              "\n",
              "\n",
              "<div id=\"df-43001bbf-4605-475f-8f0a-763d82e3297f\">\n",
              "  <button class=\"colab-df-quickchart\" onclick=\"quickchart('df-43001bbf-4605-475f-8f0a-763d82e3297f')\"\n",
              "            title=\"Suggest charts\"\n",
              "            style=\"display:none;\">\n",
              "\n",
              "<svg xmlns=\"http://www.w3.org/2000/svg\" height=\"24px\"viewBox=\"0 0 24 24\"\n",
              "     width=\"24px\">\n",
              "    <g>\n",
              "        <path d=\"M19 3H5c-1.1 0-2 .9-2 2v14c0 1.1.9 2 2 2h14c1.1 0 2-.9 2-2V5c0-1.1-.9-2-2-2zM9 17H7v-7h2v7zm4 0h-2V7h2v10zm4 0h-2v-4h2v4z\"/>\n",
              "    </g>\n",
              "</svg>\n",
              "  </button>\n",
              "\n",
              "<style>\n",
              "  .colab-df-quickchart {\n",
              "      --bg-color: #E8F0FE;\n",
              "      --fill-color: #1967D2;\n",
              "      --hover-bg-color: #E2EBFA;\n",
              "      --hover-fill-color: #174EA6;\n",
              "      --disabled-fill-color: #AAA;\n",
              "      --disabled-bg-color: #DDD;\n",
              "  }\n",
              "\n",
              "  [theme=dark] .colab-df-quickchart {\n",
              "      --bg-color: #3B4455;\n",
              "      --fill-color: #D2E3FC;\n",
              "      --hover-bg-color: #434B5C;\n",
              "      --hover-fill-color: #FFFFFF;\n",
              "      --disabled-bg-color: #3B4455;\n",
              "      --disabled-fill-color: #666;\n",
              "  }\n",
              "\n",
              "  .colab-df-quickchart {\n",
              "    background-color: var(--bg-color);\n",
              "    border: none;\n",
              "    border-radius: 50%;\n",
              "    cursor: pointer;\n",
              "    display: none;\n",
              "    fill: var(--fill-color);\n",
              "    height: 32px;\n",
              "    padding: 0;\n",
              "    width: 32px;\n",
              "  }\n",
              "\n",
              "  .colab-df-quickchart:hover {\n",
              "    background-color: var(--hover-bg-color);\n",
              "    box-shadow: 0 1px 2px rgba(60, 64, 67, 0.3), 0 1px 3px 1px rgba(60, 64, 67, 0.15);\n",
              "    fill: var(--button-hover-fill-color);\n",
              "  }\n",
              "\n",
              "  .colab-df-quickchart-complete:disabled,\n",
              "  .colab-df-quickchart-complete:disabled:hover {\n",
              "    background-color: var(--disabled-bg-color);\n",
              "    fill: var(--disabled-fill-color);\n",
              "    box-shadow: none;\n",
              "  }\n",
              "\n",
              "  .colab-df-spinner {\n",
              "    border: 2px solid var(--fill-color);\n",
              "    border-color: transparent;\n",
              "    border-bottom-color: var(--fill-color);\n",
              "    animation:\n",
              "      spin 1s steps(1) infinite;\n",
              "  }\n",
              "\n",
              "  @keyframes spin {\n",
              "    0% {\n",
              "      border-color: transparent;\n",
              "      border-bottom-color: var(--fill-color);\n",
              "      border-left-color: var(--fill-color);\n",
              "    }\n",
              "    20% {\n",
              "      border-color: transparent;\n",
              "      border-left-color: var(--fill-color);\n",
              "      border-top-color: var(--fill-color);\n",
              "    }\n",
              "    30% {\n",
              "      border-color: transparent;\n",
              "      border-left-color: var(--fill-color);\n",
              "      border-top-color: var(--fill-color);\n",
              "      border-right-color: var(--fill-color);\n",
              "    }\n",
              "    40% {\n",
              "      border-color: transparent;\n",
              "      border-right-color: var(--fill-color);\n",
              "      border-top-color: var(--fill-color);\n",
              "    }\n",
              "    60% {\n",
              "      border-color: transparent;\n",
              "      border-right-color: var(--fill-color);\n",
              "    }\n",
              "    80% {\n",
              "      border-color: transparent;\n",
              "      border-right-color: var(--fill-color);\n",
              "      border-bottom-color: var(--fill-color);\n",
              "    }\n",
              "    90% {\n",
              "      border-color: transparent;\n",
              "      border-bottom-color: var(--fill-color);\n",
              "    }\n",
              "  }\n",
              "</style>\n",
              "\n",
              "  <script>\n",
              "    async function quickchart(key) {\n",
              "      const quickchartButtonEl =\n",
              "        document.querySelector('#' + key + ' button');\n",
              "      quickchartButtonEl.disabled = true;  // To prevent multiple clicks.\n",
              "      quickchartButtonEl.classList.add('colab-df-spinner');\n",
              "      try {\n",
              "        const charts = await google.colab.kernel.invokeFunction(\n",
              "            'suggestCharts', [key], {});\n",
              "      } catch (error) {\n",
              "        console.error('Error during call to suggestCharts:', error);\n",
              "      }\n",
              "      quickchartButtonEl.classList.remove('colab-df-spinner');\n",
              "      quickchartButtonEl.classList.add('colab-df-quickchart-complete');\n",
              "    }\n",
              "    (() => {\n",
              "      let quickchartButtonEl =\n",
              "        document.querySelector('#df-43001bbf-4605-475f-8f0a-763d82e3297f button');\n",
              "      quickchartButtonEl.style.display =\n",
              "        google.colab.kernel.accessAllowed ? 'block' : 'none';\n",
              "    })();\n",
              "  </script>\n",
              "</div>\n",
              "\n",
              "  <div id=\"id_d38eccb8-cfb1-452a-987a-7ce702c35ee0\">\n",
              "    <style>\n",
              "      .colab-df-generate {\n",
              "        background-color: #E8F0FE;\n",
              "        border: none;\n",
              "        border-radius: 50%;\n",
              "        cursor: pointer;\n",
              "        display: none;\n",
              "        fill: #1967D2;\n",
              "        height: 32px;\n",
              "        padding: 0 0 0 0;\n",
              "        width: 32px;\n",
              "      }\n",
              "\n",
              "      .colab-df-generate:hover {\n",
              "        background-color: #E2EBFA;\n",
              "        box-shadow: 0px 1px 2px rgba(60, 64, 67, 0.3), 0px 1px 3px 1px rgba(60, 64, 67, 0.15);\n",
              "        fill: #174EA6;\n",
              "      }\n",
              "\n",
              "      [theme=dark] .colab-df-generate {\n",
              "        background-color: #3B4455;\n",
              "        fill: #D2E3FC;\n",
              "      }\n",
              "\n",
              "      [theme=dark] .colab-df-generate:hover {\n",
              "        background-color: #434B5C;\n",
              "        box-shadow: 0px 1px 3px 1px rgba(0, 0, 0, 0.15);\n",
              "        filter: drop-shadow(0px 1px 2px rgba(0, 0, 0, 0.3));\n",
              "        fill: #FFFFFF;\n",
              "      }\n",
              "    </style>\n",
              "    <button class=\"colab-df-generate\" onclick=\"generateWithVariable('df')\"\n",
              "            title=\"Generate code using this dataframe.\"\n",
              "            style=\"display:none;\">\n",
              "\n",
              "  <svg xmlns=\"http://www.w3.org/2000/svg\" height=\"24px\"viewBox=\"0 0 24 24\"\n",
              "       width=\"24px\">\n",
              "    <path d=\"M7,19H8.4L18.45,9,17,7.55,7,17.6ZM5,21V16.75L18.45,3.32a2,2,0,0,1,2.83,0l1.4,1.43a1.91,1.91,0,0,1,.58,1.4,1.91,1.91,0,0,1-.58,1.4L9.25,21ZM18.45,9,17,7.55Zm-12,3A5.31,5.31,0,0,0,4.9,8.1,5.31,5.31,0,0,0,1,6.5,5.31,5.31,0,0,0,4.9,4.9,5.31,5.31,0,0,0,6.5,1,5.31,5.31,0,0,0,8.1,4.9,5.31,5.31,0,0,0,12,6.5,5.46,5.46,0,0,0,6.5,12Z\"/>\n",
              "  </svg>\n",
              "    </button>\n",
              "    <script>\n",
              "      (() => {\n",
              "      const buttonEl =\n",
              "        document.querySelector('#id_d38eccb8-cfb1-452a-987a-7ce702c35ee0 button.colab-df-generate');\n",
              "      buttonEl.style.display =\n",
              "        google.colab.kernel.accessAllowed ? 'block' : 'none';\n",
              "\n",
              "      buttonEl.onclick = () => {\n",
              "        google.colab.notebook.generateWithVariable('df');\n",
              "      }\n",
              "      })();\n",
              "    </script>\n",
              "  </div>\n",
              "\n",
              "    </div>\n",
              "  </div>\n"
            ],
            "application/vnd.google.colaboratory.intrinsic+json": {
              "type": "dataframe",
              "variable_name": "df",
              "summary": "{\n  \"name\": \"df\",\n  \"rows\": 6,\n  \"fields\": [\n    {\n      \"column\": \"Action Component\",\n      \"properties\": {\n        \"dtype\": \"string\",\n        \"num_unique_values\": 6,\n        \"samples\": [\n          \"Maximize job market transparency\",\n          \"Provide salary benchmarking\",\n          \"Monitor company workforce trends\"\n        ],\n        \"semantic_type\": \"\",\n        \"description\": \"\"\n      }\n    },\n    {\n      \"column\": \"Module / Table\",\n      \"properties\": {\n        \"dtype\": \"string\",\n        \"num_unique_values\": 6,\n        \"samples\": [\n          \"Jobs\",\n          \"Salaries\",\n          \"Employee_Counts\"\n        ],\n        \"semantic_type\": \"\",\n        \"description\": \"\"\n      }\n    },\n    {\n      \"column\": \"Relevant Data Fields\",\n      \"properties\": {\n        \"dtype\": \"string\",\n        \"num_unique_values\": 6,\n        \"samples\": [\n          \"job_id, title, description, location, employment_type, job_posting_url\",\n          \"salary_id, job_id (FK), min_salary, max_salary, med_salary, pay_period, currency, compensation_type\",\n          \"company_id (FK), employee_count, follower_count, time_recorded\"\n        ],\n        \"semantic_type\": \"\",\n        \"description\": \"\"\n      }\n    },\n    {\n      \"column\": \"Description\",\n      \"properties\": {\n        \"dtype\": \"string\",\n        \"num_unique_values\": 6,\n        \"samples\": [\n          \"Stores job postings with key details\",\n          \"Stores salary details for different job roles\",\n          \"Tracks company size, employee growth, and LinkedIn followers\"\n        ],\n        \"semantic_type\": \"\",\n        \"description\": \"\"\n      }\n    }\n  ]\n}"
            }
          },
          "metadata": {}
        }
      ]
    },
    {
      "cell_type": "code",
      "execution_count": 10,
      "metadata": {
        "colab": {
          "base_uri": "https://localhost:8080/",
          "height": 170
        },
        "cellView": "form",
        "id": "S8bbA9RTruaV",
        "outputId": "689cc739-0173-47d7-8e51-0d32193fbe82"
      },
      "outputs": [
        {
          "output_type": "stream",
          "name": "stdout",
          "text": [
            "Employability_Analytics_ERD\n"
          ]
        },
        {
          "output_type": "execute_result",
          "data": {
            "image/png": "[encoded data removed]",
            "text/plain": [
              "<IPython.core.display.Image object>"
            ]
          },
          "metadata": {},
          "execution_count": 10
        }
      ],
      "source": [
        "# @title\n",
        "# Entity-Relationship Model\n",
        "from graphviz import Digraph\n",
        "\n",
        "erd = Digraph(\"Employability_Analytics_ERD\", format=\"png\", engine=\"dot\")\n",
        "erd.attr(size=\"10,10\", dpi=\"300\")\n",
        "\n",
        "# Defining Entities\n",
        "erd.node(\"Jobs\", \"Jobs\\n(job_id PK, title, description, location, company_id FK, employment_type, job_posting_url, formatted_experience_level, skills_desc)\")\n",
        "erd.node(\"Companies\", \"Companies\\n(company_id PK, name, description, company_size, country, city, zip_code)\")\n",
        "erd.node(\"Salaries\", \"Salaries\\n(salary_id PK, job_id FK, min_salary, max_salary, med_salary, pay_period, currency, compensation_type)\")\n",
        "erd.node(\"Skills\", \"Skills\\n(skill_abr PK, skill_name)\")\n",
        "erd.node(\"Job_Skills\", \"Job_Skills\\n(job_id FK, skill_abr FK)\")\n",
        "erd.node(\"Industries\", \"Industries\\n(industry_id PK, industry_name)\")\n",
        "erd.node(\"Job_Industries\", \"Job_Industries\\n(job_id FK, industry_id FK)\")\n",
        "erd.node(\"Company_Industries\", \"Company_Industries\\n(company_id FK, industry_id FK)\")\n",
        "erd.node(\"Employee_Counts\", \"Employee_Counts\\n(company_id FK, employee_count, follower_count, time_recorded)\")\n",
        "\n",
        "# Defining Relationships\n",
        "erd.edge(\"Companies\", \"Jobs\", label=\"1:M\")  # One company can post multiple jobs\n",
        "erd.edge(\"Jobs\", \"Salaries\", label=\"1:1\")  # One job has one salary entry\n",
        "erd.edge(\"Jobs\", \"Job_Skills\", label=\"1:M\")  # One job can require multiple skills\n",
        "erd.edge(\"Skills\", \"Job_Skills\", label=\"1:M\")  # One skill can be required for multiple jobs\n",
        "erd.edge(\"Jobs\", \"Job_Industries\", label=\"1:M\")  # One job can belong to multiple industries\n",
        "erd.edge(\"Industries\", \"Job_Industries\", label=\"1:M\")  # One industry can have multiple jobs\n",
        "erd.edge(\"Companies\", \"Company_Industries\", label=\"1:M\")  # One company can belong to multiple industries\n",
        "erd.edge(\"Industries\", \"Company_Industries\", label=\"1:M\")  # One industry can have multiple companies\n",
        "erd.edge(\"Companies\", \"Employee_Counts\", label=\"1:1\")  # One company has one employee count record\n",
        "\n",
        "erd_path = \"/mnt/data/employability_erd_full\"\n",
        "erd.render(erd_path)\n",
        "\n",
        "import IPython.display as display\n",
        "print(\"Employability_Analytics_ERD\")\n",
        "display.Image(erd_path + \".png\")"
      ]
    },
    {
      "cell_type": "markdown",
      "source": [
        "## Data Integrity"
      ],
      "metadata": {
        "id": "9LjQ_uLzOXJ9"
      }
    },
    {
      "cell_type": "code",
      "source": [
        "# STEP 1: Loading datasets\n",
        "jobs_df = pd.read_csv(\"/content/postings.csv\", encoding=\"utf-8\", quoting=3, sep=\",\", on_bad_lines=\"skip\", low_memory=False)\n",
        "companies_df = pd.read_csv(\"/content/companies.csv\", on_bad_lines=\"skip\", encoding=\"utf-8\", low_memory=False)\n",
        "salaries_df = pd.read_csv(\"/content/salaries.csv\", on_bad_lines=\"skip\", encoding=\"utf-8\", low_memory=False)\n",
        "skills_df = pd.read_csv(\"/content/skills.csv\", on_bad_lines=\"skip\", encoding=\"utf-8\", low_memory=False)\n",
        "job_skills_df = pd.read_csv(\"/content/job_skills.csv\", on_bad_lines=\"skip\", encoding=\"utf-8\", low_memory=False)\n",
        "industries_df = pd.read_csv(\"/content/industries.csv\", on_bad_lines=\"skip\", encoding=\"utf-8\", low_memory=False)\n",
        "job_industries_df = pd.read_csv(\"/content/job_industries.csv\", on_bad_lines=\"skip\", encoding=\"utf-8\", low_memory=False)\n",
        "company_industries_df = pd.read_csv(\"/content/company_industries.csv\", on_bad_lines=\"skip\", encoding=\"utf-8\", low_memory=False)\n",
        "employee_counts_df = pd.read_csv(\"/content/employee_counts.csv\", on_bad_lines=\"skip\", encoding=\"utf-8\", low_memory=False)\n",
        "\n",
        "print(\"✅ Datasets loaded successfully!\")"
      ],
      "metadata": {
        "colab": {
          "base_uri": "https://localhost:8080/"
        },
        "id": "Bd-BLbVNDpPT",
        "outputId": "ecd74a69-d703-446f-aae4-5dfef7d87a6c"
      },
      "execution_count": 19,
      "outputs": [
        {
          "output_type": "stream",
          "name": "stdout",
          "text": [
            "✅ Datasets loaded successfully!\n"
          ]
        }
      ]
    },
    {
      "cell_type": "markdown",
      "source": [
        "### **Referential integrity**"
      ],
      "metadata": {
        "id": "2pJDTaK9OItS"
      }
    },
    {
      "cell_type": "code",
      "source": [
        "# STEP 2: Checking Primary Key Uniqueness\n",
        "\n",
        "def primary_key_uniqueness(df, primary_key, table_name):\n",
        "    if df.duplicated(subset=[primary_key]).any():\n",
        "        print(f\"⚠️ WARNING: Duplicate values found in {table_name}.{primary_key}\")\n",
        "        print(df[df.duplicated(subset=[primary_key], keep=False)])\n",
        "    else:\n",
        "        print(f\"✅ {primary_key} is unique in {table_name}\")\n",
        "\n",
        "# Assign dataset names for readability\n",
        "datasets = {\n",
        "    \"Jobs\": (jobs_df, \"job_id\"),\n",
        "    \"Companies\": (companies_df, \"company_id\"),\n",
        "    \"Salaries\": (salaries_df, \"salary_id\"),\n",
        "    \"Skills\": (skills_df, \"skill_abr\"),\n",
        "    \"Industries\": (industries_df, \"industry_id\"),\n",
        "    \"Job_Skills\": (job_skills_df, \"job_id\"),\n",
        "    \"Job_Industries\": (job_industries_df, \"job_id\"),\n",
        "    \"Company_Industries\": (company_industries_df, \"company_id\"),\n",
        "    \"Employee_Counts\": (employee_counts_df, \"company_id\"),\n",
        "}\n",
        "\n",
        "for table_name, (df, pk) in datasets.items():\n",
        "    primary_key_uniqueness(df, pk, table_name)"
      ],
      "metadata": {
        "colab": {
          "base_uri": "https://localhost:8080/"
        },
        "id": "THi2SwItN3DO",
        "outputId": "d0ab4fc7-9745-4421-d49c-b7cb263f4eb5"
      },
      "execution_count": 24,
      "outputs": [
        {
          "output_type": "stream",
          "name": "stdout",
          "text": [
            "⚠️ WARNING: Duplicate values found in Jobs.job_id\n",
            "                                                                                                                                                                                                                                                                                                                                                                                                                                                                                                                                                                                                                                                                                                                                                                                                                                                                                                                                                                                                                                                                                                                                                                                                                                                                                                                                                                                                         job_id company_name title      description max_salary                                                         pay_period location          company_id            views med_salary  ... skills_desc listed_time posting_domain sponsored work_type currency compensation_type normalized_salary zip_code fips\n",
            "Pay: $18-20/hour                                                                                                                                                                                                                                                                                                                                                                                                                                                                                                                                                  NaN                                                                                                                                                                                                                                                                                  NaN                                                                                                                                                                                                       NaN                             NaN                                                                               NaN                                                                        NaN                                                                                                                                    NaN    NaN          NaN   NaN              NaN        NaN                                                                NaN      NaN                 NaN              NaN        NaN  ...         NaN         NaN            NaN       NaN       NaN      NaN               NaN               NaN      NaN  NaN\n",
            "Expected hours: 35 – 45 per week                                                                                                                                                                                                                                                                                                                                                                                                                                                                                                                                  NaN                                                                                                                                                                                                                                                                                  NaN                                                                                                                                                                                                       NaN                             NaN                                                                               NaN                                                                        NaN                                                                                                                                    NaN    NaN          NaN   NaN              NaN        NaN                                                                NaN      NaN                 NaN              NaN        NaN  ...         NaN         NaN            NaN       NaN       NaN      NaN               NaN               NaN      NaN  NaN\n",
            "Benefits:Paid time offSchedule:8 hour shiftMonday to FridayExperience:Marketing: 1 year (Preferred)Graphic design: 2 years (Preferred)Work Location: In person                                                                                                                                                                                                                                                                                                                                                                                                    NaN                                                                                                                                                                                                                                                                                  NaN                                                                                                                                                                                                       NaN                             NaN                                                                               NaN                                                                        NaN                                                                                                                                    NaN    NaN          NaN   NaN              NaN        NaN                                                                NaN      NaN                 NaN              NaN        NaN  ...         NaN         NaN            NaN       NaN       NaN      NaN               NaN               NaN      NaN  NaN\n",
            "\"                                                                                                                                                                                                                                                                                                                                                                                                                                                                                                                                                                 20.0                                                                                                                                                                                                                                                                                 HOURLY                                                                                                                                                                                                    \"Princeton                       NJ\"                                                                              2774458.0                                                                  20.0                                                                                                                                   NaN   17.0    Full-time   2.0  1713397508000.0        NaN  https://www.linkedin.com/jobs/view/921716/?trk=jobs_biz_prem_srch      NaN  ComplexOnsiteApply  1715989508000.0        NaN  ...         NaN         NaN            NaN       NaN       NaN      NaN               NaN               NaN      NaN  NaN\n",
            "1829192                                                                                                                                                                                                                                                                                                                                                                                                                                                                                                                                                           NaN                                                                                                                                                                                                                                                                                  Mental Health Therapist/Counselor                                                                                                                                                                         \"At Aspen Therapy and Wellness   we are committed to serving clients with best practices to help them with change  improvements and better quality of life. We believe in providing a secure  supportive environment to grow as a clinician and learn how to foster longevity in the career which is part of our mission statement. NaN    NaN          NaN   NaN              NaN        NaN                                                                NaN      NaN                 NaN              NaN        NaN  ...         NaN         NaN            NaN       NaN       NaN      NaN               NaN               NaN      NaN  NaN\n",
            "...                                                                                                                                                                                                                                                                                                                                                                                                                                                                                                                                                                                                                                                                                                                                                                                                                                                                                                                                                                                                                                                                                                                                                                                                                                                                                                                                                                                                         ...          ...   ...              ...        ...                                                                ...      ...                 ...              ...        ...  ...         ...         ...            ...       ...       ...      ...               ...               ...      ...  ...\n",
            "Established in 1997                                                                                                                                                                                                                                                                                                                                                                                                                                                                                                                                                L.A. Care Health Plan is an independent public agency created by the state of California to provide health coverage to low-income Los Angeles County residents. We are the nation’s largest publicly operated health plan. Serving more than 2 million members in five health plans  we make sure our members get the right care at the right place at the right time.                                                                                                                        NaN                             NaN                                                                               NaN                                                                        NaN                                                                                                                                    NaN    NaN          NaN   NaN              NaN        NaN                                                                NaN      NaN                 NaN              NaN        NaN  ...         NaN         NaN            NaN       NaN       NaN      NaN               NaN               NaN      NaN  NaN\n",
            "Mission: L.A. Care’s mission is to provide access to quality health care for Los Angeles County's vulnerable and low-income communities and residents and to support the safety net required to achieve that purpose.                                                                                                                                                                                                                                                                                                                                             NaN                                                                                                                                                                                                                                                                                  NaN                                                                                                                                                                                                       NaN                             NaN                                                                               NaN                                                                        NaN                                                                                                                                    NaN    NaN          NaN   NaN              NaN        NaN                                                                NaN      NaN                 NaN              NaN        NaN  ...         NaN         NaN            NaN       NaN       NaN      NaN               NaN               NaN      NaN  NaN\n",
            "Job Summary                                                                                                                                                                                                                                                                                                                                                                                                                                                                                                                                                       NaN                                                                                                                                                                                                                                                                                  NaN                                                                                                                                                                                                       NaN                             NaN                                                                               NaN                                                                        NaN                                                                                                                                    NaN    NaN          NaN   NaN              NaN        NaN                                                                NaN      NaN                 NaN              NaN        NaN  ...         NaN         NaN            NaN       NaN       NaN      NaN               NaN               NaN      NaN  NaN\n",
            "Duties                                                                                                                                                                                                                                                                                                                                                                                                                                                                                                                                                            NaN                                                                                                                                                                                                                                                                                  NaN                                                                                                                                                                                                       NaN                             NaN                                                                               NaN                                                                        NaN                                                                                                                                    NaN    NaN          NaN   NaN              NaN        NaN                                                                NaN      NaN                 NaN              NaN        NaN  ...         NaN         NaN            NaN       NaN       NaN      NaN               NaN               NaN      NaN  NaN\n",
            "Participate and contribute in multiple projects by completing and updating project documentation; managing project scope; adjusting schedules when necessary; determining daily priorities; ensuring efficient and on-time delivery of project tasks and milestones; follow escalation process; and managing customer relationships. Ensure data is valid and reliable; develop business process improvement; monitor and update software as needed; partner with internal and external customers to accomplish long-term business strategies and goals. Identify  create                                                                                                                                                                                                                                                                               and facilitate process design changes by conducting business and systems process analysis and design at a complex level; focusing on quality improvement and data management. Identify improvement oppor NaN                             NaN                                                                               NaN                                                                        NaN                                                                                                                                    NaN    NaN          NaN   NaN              NaN        NaN                                                                NaN      NaN                 NaN              NaN        NaN  ...         NaN         NaN            NaN       NaN       NaN      NaN               NaN               NaN      NaN  NaN\n",
            "\n",
            "[16793 rows x 31 columns]\n",
            "✅ company_id is unique in Companies\n",
            "✅ salary_id is unique in Salaries\n",
            "✅ skill_abr is unique in Skills\n",
            "✅ industry_id is unique in Industries\n",
            "⚠️ WARNING: Duplicate values found in Job_Skills.job_id\n",
            "            job_id skill_abr\n",
            "0       3884428798      MRKT\n",
            "1       3884428798        PR\n",
            "2       3884428798       WRT\n",
            "4       3887465684       FIN\n",
            "5       3887465684      SALE\n",
            "...            ...       ...\n",
            "213761  3902882321       WRT\n",
            "213764  3902878689      MGMT\n",
            "213765  3902878689      MNFC\n",
            "213766  3902883233      SALE\n",
            "213767  3902883233      MGMT\n",
            "\n",
            "[158619 rows x 2 columns]\n",
            "⚠️ WARNING: Duplicate values found in Job_Industries.job_id\n",
            "            job_id  industry_id\n",
            "3       3887467939           82\n",
            "4       3887467939           80\n",
            "5       3887471331           57\n",
            "6       3887471331          332\n",
            "7       3887471331          383\n",
            "...            ...          ...\n",
            "164791  3906264345           12\n",
            "164792  3902880673           59\n",
            "164793  3902880673         3243\n",
            "164799  3906261853           15\n",
            "164800  3906261853           12\n",
            "\n",
            "[62089 rows x 2 columns]\n",
            "⚠️ WARNING: Duplicate values found in Company_Industries.company_id\n",
            "       company_id                              industry\n",
            "437      87089640                                Retail\n",
            "546       2831596                     Medical Practices\n",
            "793       1687254                         Manufacturing\n",
            "1159     13637042         IT Services and IT Consulting\n",
            "1170        27292               Staffing and Recruiting\n",
            "2908         4721   International Trade and Development\n",
            "3022     35583934                           Real Estate\n",
            "3361        21792                           Real Estate\n",
            "3868     69192017  Technology, Information and Internet\n",
            "3978     69192017                  Software Development\n",
            "7849      2471716       Food and Beverage Manufacturing\n",
            "8416     87089640   Personal Care Product Manufacturing\n",
            "9020      2831596             Hospitals and Health Care\n",
            "9890        27292         IT Services and IT Consulting\n",
            "9906        21792                    Financial Services\n",
            "10987     2471716                                Retail\n",
            "13130    13637042                  Software Development\n",
            "14334    35583934                     Consumer Services\n",
            "14958        4721         IT Services and IT Consulting\n",
            "24142     1687254            Retail Apparel and Fashion\n",
            "⚠️ WARNING: Duplicate values found in Employee_Counts.company_id\n",
            "       company_id  employee_count  follower_count  time_recorded\n",
            "0          391906             186           32508     1712346173\n",
            "1        22292832             311            4471     1712346173\n",
            "2           20300            1053            6554     1712346173\n",
            "3         3570660             383           35241     1712346173\n",
            "5          729238             268           41433     1712346173\n",
            "...           ...             ...             ...            ...\n",
            "35776       78631            1012           11025     1713572859\n",
            "35777      165654            2701          159466     1713572859\n",
            "35779        6367           10007          358825     1713572859\n",
            "35783       64379             144           31910     1713572859\n",
            "35785      307079             602           32199     1713572859\n",
            "\n",
            "[17019 rows x 4 columns]\n"
          ]
        }
      ]
    },
    {
      "cell_type": "markdown",
      "source": [
        "**Handling duplicate 'job_id' in jobs table**"
      ],
      "metadata": {
        "id": "cwFa1sQ-Ri0V"
      }
    },
    {
      "cell_type": "code",
      "source": [
        "# Checking for duplicates\n",
        "duplicate_jobs = jobs_df[jobs_df.duplicated(subset=['job_id'], keep=False)]\n",
        "print(duplicate_jobs)"
      ],
      "metadata": {
        "colab": {
          "base_uri": "https://localhost:8080/"
        },
        "id": "Fn2oarxnRpxt",
        "outputId": "0f40d3d0-d151-4078-ef51-892e43c9ff59"
      },
      "execution_count": 28,
      "outputs": [
        {
          "output_type": "stream",
          "name": "stdout",
          "text": [
            "                                                                                                                                                                                                                                                                                                                                                                                                                                                                                                                                                                                                                                                                                                                                                                                                                                                                                                                                                                                                                                                                                                                                                                                                                                                                                                                                                                                                         job_id company_name title      description max_salary                                                         pay_period location          company_id            views med_salary  ... skills_desc listed_time posting_domain sponsored work_type currency compensation_type normalized_salary zip_code fips\n",
            "Pay: $18-20/hour                                                                                                                                                                                                                                                                                                                                                                                                                                                                                                                                                  NaN                                                                                                                                                                                                                                                                                  NaN                                                                                                                                                                                                       NaN                             NaN                                                                               NaN                                                                        NaN                                                                                                                                    NaN    NaN          NaN   NaN              NaN        NaN                                                                NaN      NaN                 NaN              NaN        NaN  ...         NaN         NaN            NaN       NaN       NaN      NaN               NaN               NaN      NaN  NaN\n",
            "Expected hours: 35 – 45 per week                                                                                                                                                                                                                                                                                                                                                                                                                                                                                                                                  NaN                                                                                                                                                                                                                                                                                  NaN                                                                                                                                                                                                       NaN                             NaN                                                                               NaN                                                                        NaN                                                                                                                                    NaN    NaN          NaN   NaN              NaN        NaN                                                                NaN      NaN                 NaN              NaN        NaN  ...         NaN         NaN            NaN       NaN       NaN      NaN               NaN               NaN      NaN  NaN\n",
            "Benefits:Paid time offSchedule:8 hour shiftMonday to FridayExperience:Marketing: 1 year (Preferred)Graphic design: 2 years (Preferred)Work Location: In person                                                                                                                                                                                                                                                                                                                                                                                                    NaN                                                                                                                                                                                                                                                                                  NaN                                                                                                                                                                                                       NaN                             NaN                                                                               NaN                                                                        NaN                                                                                                                                    NaN    NaN          NaN   NaN              NaN        NaN                                                                NaN      NaN                 NaN              NaN        NaN  ...         NaN         NaN            NaN       NaN       NaN      NaN               NaN               NaN      NaN  NaN\n",
            "\"                                                                                                                                                                                                                                                                                                                                                                                                                                                                                                                                                                 20.0                                                                                                                                                                                                                                                                                 HOURLY                                                                                                                                                                                                    \"Princeton                       NJ\"                                                                              2774458.0                                                                  20.0                                                                                                                                   NaN   17.0    Full-time   2.0  1713397508000.0        NaN  https://www.linkedin.com/jobs/view/921716/?trk=jobs_biz_prem_srch      NaN  ComplexOnsiteApply  1715989508000.0        NaN  ...         NaN         NaN            NaN       NaN       NaN      NaN               NaN               NaN      NaN  NaN\n",
            "1829192                                                                                                                                                                                                                                                                                                                                                                                                                                                                                                                                                           NaN                                                                                                                                                                                                                                                                                  Mental Health Therapist/Counselor                                                                                                                                                                         \"At Aspen Therapy and Wellness   we are committed to serving clients with best practices to help them with change  improvements and better quality of life. We believe in providing a secure  supportive environment to grow as a clinician and learn how to foster longevity in the career which is part of our mission statement. NaN    NaN          NaN   NaN              NaN        NaN                                                                NaN      NaN                 NaN              NaN        NaN  ...         NaN         NaN            NaN       NaN       NaN      NaN               NaN               NaN      NaN  NaN\n",
            "...                                                                                                                                                                                                                                                                                                                                                                                                                                                                                                                                                                                                                                                                                                                                                                                                                                                                                                                                                                                                                                                                                                                                                                                                                                                                                                                                                                                                         ...          ...   ...              ...        ...                                                                ...      ...                 ...              ...        ...  ...         ...         ...            ...       ...       ...      ...               ...               ...      ...  ...\n",
            "Established in 1997                                                                                                                                                                                                                                                                                                                                                                                                                                                                                                                                                L.A. Care Health Plan is an independent public agency created by the state of California to provide health coverage to low-income Los Angeles County residents. We are the nation’s largest publicly operated health plan. Serving more than 2 million members in five health plans  we make sure our members get the right care at the right place at the right time.                                                                                                                        NaN                             NaN                                                                               NaN                                                                        NaN                                                                                                                                    NaN    NaN          NaN   NaN              NaN        NaN                                                                NaN      NaN                 NaN              NaN        NaN  ...         NaN         NaN            NaN       NaN       NaN      NaN               NaN               NaN      NaN  NaN\n",
            "Mission: L.A. Care’s mission is to provide access to quality health care for Los Angeles County's vulnerable and low-income communities and residents and to support the safety net required to achieve that purpose.                                                                                                                                                                                                                                                                                                                                             NaN                                                                                                                                                                                                                                                                                  NaN                                                                                                                                                                                                       NaN                             NaN                                                                               NaN                                                                        NaN                                                                                                                                    NaN    NaN          NaN   NaN              NaN        NaN                                                                NaN      NaN                 NaN              NaN        NaN  ...         NaN         NaN            NaN       NaN       NaN      NaN               NaN               NaN      NaN  NaN\n",
            "Job Summary                                                                                                                                                                                                                                                                                                                                                                                                                                                                                                                                                       NaN                                                                                                                                                                                                                                                                                  NaN                                                                                                                                                                                                       NaN                             NaN                                                                               NaN                                                                        NaN                                                                                                                                    NaN    NaN          NaN   NaN              NaN        NaN                                                                NaN      NaN                 NaN              NaN        NaN  ...         NaN         NaN            NaN       NaN       NaN      NaN               NaN               NaN      NaN  NaN\n",
            "Duties                                                                                                                                                                                                                                                                                                                                                                                                                                                                                                                                                            NaN                                                                                                                                                                                                                                                                                  NaN                                                                                                                                                                                                       NaN                             NaN                                                                               NaN                                                                        NaN                                                                                                                                    NaN    NaN          NaN   NaN              NaN        NaN                                                                NaN      NaN                 NaN              NaN        NaN  ...         NaN         NaN            NaN       NaN       NaN      NaN               NaN               NaN      NaN  NaN\n",
            "Participate and contribute in multiple projects by completing and updating project documentation; managing project scope; adjusting schedules when necessary; determining daily priorities; ensuring efficient and on-time delivery of project tasks and milestones; follow escalation process; and managing customer relationships. Ensure data is valid and reliable; develop business process improvement; monitor and update software as needed; partner with internal and external customers to accomplish long-term business strategies and goals. Identify  create                                                                                                                                                                                                                                                                               and facilitate process design changes by conducting business and systems process analysis and design at a complex level; focusing on quality improvement and data management. Identify improvement oppor NaN                             NaN                                                                               NaN                                                                        NaN                                                                                                                                    NaN    NaN          NaN   NaN              NaN        NaN                                                                NaN      NaN                 NaN              NaN        NaN  ...         NaN         NaN            NaN       NaN       NaN      NaN               NaN               NaN      NaN  NaN\n",
            "\n",
            "[16793 rows x 31 columns]\n"
          ]
        }
      ]
    },
    {
      "cell_type": "code",
      "source": [
        "# Checking how many unique job IDs exist\n",
        "unique_jobs_count = jobs_df['job_id'].nunique()\n",
        "total_jobs_count = jobs_df.shape[0]\n",
        "\n",
        "print(f\"Total Job Records: {total_jobs_count}\")\n",
        "print(f\"Unique Job IDs: {unique_jobs_count}\")\n",
        "\n",
        "duplicate_jobs = jobs_df[jobs_df.duplicated(subset=['job_id'], keep=False)]\n",
        "print(duplicate_jobs.head(20))"
      ],
      "metadata": {
        "colab": {
          "base_uri": "https://localhost:8080/"
        },
        "id": "qrw_5oTeSDi4",
        "outputId": "416e5721-cf6b-4ace-b26f-4f4d19144311"
      },
      "execution_count": 29,
      "outputs": [
        {
          "output_type": "stream",
          "name": "stdout",
          "text": [
            "Total Job Records: 18714\n",
            "Unique Job IDs: 2198\n",
            "                                                                                                                                                                                                                                                                                                                                                                                                                                                                                                                                                                                                                                                                                                                                                                                                                                                                                                                                                                                                                                                                                                                                                                                                                                                                                                                                                                                                                                                                                                                                                                                                                                                                                                                                                                                                                                                                                                                                                                                                                                                                                                                                                                                                                                                                                                                                                                                                                                                                                                                                                                                                                                                                                                                                                                                  job_id company_name title      description max_salary                                                           pay_period location          company_id            views med_salary  ... skills_desc listed_time posting_domain sponsored work_type currency compensation_type normalized_salary zip_code fips\n",
            "Pay: $18-20/hour                                                                                                                                                                                                                                                                                                                                                                                                                                                                                                                                                                                                                                                                                                                                                                                                                                                                                                                                                                                                                                                                                NaN                                                                                                                                                                                                                                                                                                                                                                                                                                                                                                                                                                                                                                                                                                                                                                                                                                                                                                                                                                                                                                              NaN                                                                                                                                                                        NaN                                                                                   NaN                                                                                                                               NaN                                                                        NaN                                                                                                                                    NaN            NaN          NaN   NaN              NaN        NaN                                                                  NaN      NaN                 NaN              NaN        NaN  ...         NaN         NaN            NaN       NaN       NaN      NaN               NaN               NaN      NaN  NaN\n",
            "Expected hours: 35 – 45 per week                                                                                                                                                                                                                                                                                                                                                                                                                                                                                                                                                                                                                                                                                                                                                                                                                                                                                                                                                                                                                                                                NaN                                                                                                                                                                                                                                                                                                                                                                                                                                                                                                                                                                                                                                                                                                                                                                                                                                                                                                                                                                                                                                              NaN                                                                                                                                                                        NaN                                                                                   NaN                                                                                                                               NaN                                                                        NaN                                                                                                                                    NaN            NaN          NaN   NaN              NaN        NaN                                                                  NaN      NaN                 NaN              NaN        NaN  ...         NaN         NaN            NaN       NaN       NaN      NaN               NaN               NaN      NaN  NaN\n",
            "Benefits:Paid time offSchedule:8 hour shiftMonday to FridayExperience:Marketing: 1 year (Preferred)Graphic design: 2 years (Preferred)Work Location: In person                                                                                                                                                                                                                                                                                                                                                                                                                                                                                                                                                                                                                                                                                                                                                                                                                                                                                                                                  NaN                                                                                                                                                                                                                                                                                                                                                                                                                                                                                                                                                                                                                                                                                                                                                                                                                                                                                                                                                                                                                                              NaN                                                                                                                                                                        NaN                                                                                   NaN                                                                                                                               NaN                                                                        NaN                                                                                                                                    NaN            NaN          NaN   NaN              NaN        NaN                                                                  NaN      NaN                 NaN              NaN        NaN  ...         NaN         NaN            NaN       NaN       NaN      NaN               NaN               NaN      NaN  NaN\n",
            "\"                                                                                                                                                                                                                                                                                                                                                                                                                                                                                                                                                                                                                                                                                                                                                                                                                                                                                                                                                                                                                                                                                               20.0                                                                                                                                                                                                                                                                                                                                                                                                                                                                                                                                                                                                                                                                                                                                                                                                                                                                                                                                                                                                                                             HOURLY                                                                                                                                                                     \"Princeton                                                                             NJ\"                                                                                                                              2774458.0                                                                  20.0                                                                                                                                   NaN           17.0    Full-time   2.0  1713397508000.0        NaN    https://www.linkedin.com/jobs/view/921716/?trk=jobs_biz_prem_srch      NaN  ComplexOnsiteApply  1715989508000.0        NaN  ...         NaN         NaN            NaN       NaN       NaN      NaN               NaN               NaN      NaN  NaN\n",
            "1829192                                                                                                                                                                                                                                                                                                                                                                                                                                                                                                                                                                                                                                                                                                                                                                                                                                                                                                                                                                                                                                                                                         NaN                                                                                                                                                                                                                                                                                                                                                                                                                                                                                                                                                                                                                                                                                                                                                                                                                                                                                                                                                                                                                                              Mental Health Therapist/Counselor                                                                                                                                          \"At Aspen Therapy and Wellness                                                         we are committed to serving clients with best practices to help them with change                                                  improvements and better quality of life. We believe in providing a secure  supportive environment to grow as a clinician and learn how to foster longevity in the career which is part of our mission statement. NaN            NaN          NaN   NaN              NaN        NaN                                                                  NaN      NaN                 NaN              NaN        NaN  ...         NaN         NaN            NaN       NaN       NaN      NaN               NaN               NaN      NaN  NaN\n",
            "Thank you for taking the time to explore a career with us. We are excited to be a new group practice in the community. If you are looking for quality supervision as you work towards licensure and ability to serve populations while accepting a variety of insurance panels                                                                                                                                                                                                                                                                                                                                                                                                                                                                                                                                                                                                                                                                                                                                                                                                                   we may be a good fit. Our supervisors are trained in EMDR and utilize a parts work perspective with a trauma lens.                                                                                                                                                                                                                                                                                                                                                                                                                                                                                                                                                                                                                                                                                                                                                                                                                                                                                                                              NaN                                                                                                                                                                        NaN                                                                                   NaN                                                                                                                               NaN                                                                        NaN                                                                                                                                    NaN            NaN          NaN   NaN              NaN        NaN                                                                  NaN      NaN                 NaN              NaN        NaN  ...         NaN         NaN            NaN       NaN       NaN      NaN               NaN               NaN      NaN  NaN\n",
            "We are actively looking to hire a therapist in the area who is passionate about working with adults and committed to growth and excellence in the field. We are located in Old Town Square                                                                                                                                                                                                                                                                                                                                                                                                                                                                                                                                                                                                                                                                                                                                                                                                                                                                                                       Fort Collins.                                                                                                                                                                                                                                                                                                                                                                                                                                                                                                                                                                                                                                                                                                                                                                                                                                                                                                                                                                                                                                   NaN                                                                                                                                                                        NaN                                                                                   NaN                                                                                                                               NaN                                                                        NaN                                                                                                                                    NaN            NaN          NaN   NaN              NaN        NaN                                                                  NaN      NaN                 NaN              NaN        NaN  ...         NaN         NaN            NaN       NaN       NaN      NaN               NaN               NaN      NaN  NaN\n",
            "We value and are strengthened by diversity and desire a warm and welcoming place for all people. We believe in racial and ethnic equality                                                                                                                                                                                                                                                                                                                                                                                                                                                                                                                                                                                                                                                                                                                                                                                                                                                                                                                                                        gender equity and social inclusion.                                                                                                                                                                                                                                                                                                                                                                                                                                                                                                                                                                                                                                                                                                                                                                                                                                                                                                                                                                                                             NaN                                                                                                                                                                        NaN                                                                                   NaN                                                                                                                               NaN                                                                        NaN                                                                                                                                    NaN            NaN          NaN   NaN              NaN        NaN                                                                  NaN      NaN                 NaN              NaN        NaN  ...         NaN         NaN            NaN       NaN       NaN      NaN               NaN               NaN      NaN  NaN\n",
            "Position Requirement Possibilities:A graduate level psychological counseling-related degreeMasters of Social Work (MSW/LSW)Licensed Professional Counselor Candidate (LPCC)Clinical Social worker (LCSW)Professional Counselor (LPC)Marriage/Family Therapist (LMFT)Relating to this?Wanting to deliver high quality mental healthcareSeeking quality supervision and growth in a healthy environmentWhat we offer:Flexible work scheduleW2 Employment - commission basedBuilding to full time workJump of 5% in commission as well as monthly bonus/stipend once full timeWeekly supervision providedPaid weekly team meetings $30/hrTwo paid wellness hours/month $30/hrTelemedicine and in-person flexibilitySupportive work environment with direct access to two supervisorsAdministrative supportApproved professional development training providedFully automated EHR and technology supportStrong work/life balanceJob Duties:Conducting intake assessmentsDeveloping and implementing treatment plans for clients based on assessment and coordinating any additional services needed  revising as necessaryConducting individual sessions as appropriate for the treatment plan of the patientApplying psychotherapeutic techniques and interventions in the delivery of services to individuals for the purpose of treating emotional and behavioral disorders that have been diagnosed in assessmentParticipating in team meetings in order to staff new cases. Presenting appropriate patient information to the team. Recommending effective treatment interventions.Building and maintaining an active caseload with assigned clientsCompleting timely progress notes and treatment updates in the EHR. Maintaining all clinical documentation in accordance with regulatory and accrediting standardsProviding crisis intervention to patients in acute distress and referring as neededPerforming case management and discharge planning as neededExcellent communication and interpersonal skillsCompassionate and empathetic approach to patient carePlease send resume and cover letter to info@aspentherapyandwellness.com NaN                                                                                                                                                                        NaN                                                                                   NaN                                                                                                                               NaN                                                                        NaN                                                                                                                                    NaN            NaN          NaN   NaN              NaN        NaN                                                                  NaN      NaN                 NaN              NaN        NaN  ...         NaN         NaN            NaN       NaN       NaN      NaN               NaN               NaN      NaN  NaN\n",
            "About Aspen Therapy and Wellness LLCAspen Therapy and Wellness is a mental health services provider focusing on work with adults in an outpatient setting                                                                                                                                                                                                                                                                                                                                                                                                                                                                                                                                                                                                                                                                                                                                                                                                                                                                                                                                        working with a variety of mental health issues both in-person in Old Town Fort Collins and throughout the state of Colorado via telehealth services.                                                                                                                                                                                                                                                                                                                                                                                                                                                                                                                                                                                                                                                                                                                                                                                                                                                                                            NaN                                                                                                                                                                        NaN                                                                                   NaN                                                                                                                               NaN                                                                        NaN                                                                                                                                    NaN            NaN          NaN   NaN              NaN        NaN                                                                  NaN      NaN                 NaN              NaN        NaN  ...         NaN         NaN            NaN       NaN       NaN      NaN               NaN               NaN      NaN  NaN\n",
            "Please note that this job description is not exhaustive and additional duties may be assigned as needed.\"                                                                                                                                                                                                                                                                                                                                                                                                                                                                                                                                                                                                                                                                                                                                                                                                                                                                                                                                                                                       50.0                                                                                                                                                                                                                                                                                                                                                                                                                                                                                                                                                                                                                                                                                                                                                                                                                                                                                                                                                                                                                                             HOURLY                                                                                                                                                                     \"Fort Collins                                                                          CO\"                                                                                                                              NaN                                                                        1.0                                                                                                                                    NaN           30.0    Full-time   NaN  1712857887000.0        NaN   https://www.linkedin.com/jobs/view/1829192/?trk=jobs_biz_prem_srch      NaN  ComplexOnsiteApply  1715449887000.0        NaN  ...         NaN         NaN            NaN       NaN       NaN      NaN               NaN               NaN      NaN  NaN\n",
            "10998357                                                                                                                                                                                                                                                                                                                                                                                                                                                                                                                                                                                                                                                                                                                                                                                                                                                                                                                                                                                                                                                                                        The National Exemplar                                                                                                                                                                                                                                                                                                                                                                                                                                                                                                                                                                                                                                                                                                                                                                                                                                                                                                                                                                                                                            Assitant Restaurant Manager                                                                                                                                                \"The National Exemplar is accepting applications for an Assistant Restaurant Manager. NaN                                                                                                                               NaN                                                                        NaN                                                                                                                                    NaN            NaN          NaN   NaN              NaN        NaN                                                                  NaN      NaN                 NaN              NaN        NaN  ...         NaN         NaN            NaN       NaN       NaN      NaN               NaN               NaN      NaN  NaN\n",
            "We offer highly competitive wages                                                                                                                                                                                                                                                                                                                                                                                                                                                                                                                                                                                                                                                                                                                                                                                                                                                                                                                                                                                                                                                                healthcare                                                                                                                                                                                                                                                                                                                                                                                                                                                                                                                                                                                                                                                                                                                                                                                                                                                                                                                                                                                                                                       paid time off                                                                                                                                                              complimentary dining privileges and bonus opportunities.                             NaN                                                                                                                               NaN                                                                        NaN                                                                                                                                    NaN            NaN          NaN   NaN              NaN        NaN                                                                  NaN      NaN                 NaN              NaN        NaN  ...         NaN         NaN            NaN       NaN       NaN      NaN               NaN               NaN      NaN  NaN\n",
            "We are a serious                                                                                                                                                                                                                                                                                                                                                                                                                                                                                                                                                                                                                                                                                                                                                                                                                                                                                                                                                                                                                                                                                 professional                                                                                                                                                                                                                                                                                                                                                                                                                                                                                                                                                                                                                                                                                                                                                                                                                                                                                                                                                                                                                                     long-standing neighborhood restaurant with over 41 years of service. If you are looking for a long-term fit with a best in class organization then you should apply now.  NaN                                                                                   NaN                                                                                                                               NaN                                                                        NaN                                                                                                                                    NaN            NaN          NaN   NaN              NaN        NaN                                                                  NaN      NaN                 NaN              NaN        NaN  ...         NaN         NaN            NaN       NaN       NaN      NaN               NaN               NaN      NaN  NaN\n",
            "Please send a resumes to pardom@nationalexemplar.com. o\"                                                                                                                                                                                                                                                                                                                                                                                                                                                                                                                                                                                                                                                                                                                                                                                                                                                                                                                                                                                                                                        65000.0                                                                                                                                                                                                                                                                                                                                                                                                                                                                                                                                                                                                                                                                                                                                                                                                                                                                                                                                                                                                                                          YEARLY                                                                                                                                                                     \"Cincinnati                                                                            OH\"                                                                                                                              64896719.0                                                                 8.0                                                                                                                                    NaN        45000.0    Full-time   NaN  1713277614000.0        NaN  https://www.linkedin.com/jobs/view/10998357/?trk=jobs_biz_prem_srch      NaN  ComplexOnsiteApply  1715869614000.0        NaN  ...     55000.0       45202          39061       NaN       NaN      NaN               NaN               NaN      NaN  NaN\n",
            "We are a prominent Lake Success Law Firm seeking an associate attorney for its growing Elder Law and Estate Planning practice. The successful candidate will be a self-motivated                                                                                                                                                                                                                                                                                                                                                                                                                                                                                                                                                                                                                                                                                                                                                                                                                                                                                                                 detail-oriented team member with strong communication skills and a desire to grow their practice. Experience with Estate Planning                                                                                                                                                                                                                                                                                                                                                                                                                                                                                                                                                                                                                                                                                                                                                                                                                                                                                                                Administration                                                                                                                                                             and Litigation and is preferred.                                                     NaN                                                                                                                               NaN                                                                        NaN                                                                                                                                    NaN            NaN          NaN   NaN              NaN        NaN                                                                  NaN      NaN                 NaN              NaN        NaN  ...         NaN         NaN            NaN       NaN       NaN      NaN               NaN               NaN      NaN  NaN\n",
            " Responsibilities will include:                                                                                                                                                                                                                                                                                                                                                                                                                                                                                                                                                                                                                                                                                                                                                                                                                                                                                                                                                                                                                                                                 NaN                                                                                                                                                                                                                                                                                                                                                                                                                                                                                                                                                                                                                                                                                                                                                                                                                                                                                                                                                                                                                                              NaN                                                                                                                                                                        NaN                                                                                   NaN                                                                                                                               NaN                                                                        NaN                                                                                                                                    NaN            NaN          NaN   NaN              NaN        NaN                                                                  NaN      NaN                 NaN              NaN        NaN  ...         NaN         NaN            NaN       NaN       NaN      NaN               NaN               NaN      NaN  NaN\n",
            "Counseling clients with regard to estate planning and asset protection;Formulating and overseeing execution of Medicaid and estate plans;Drafting wills                                                                                                                                                                                                                                                                                                                                                                                                                                                                                                                                                                                                                                                                                                                                                                                                                                                                                                                                          revocable and irrevocable trusts                                                                                                                                                                                                                                                                                                                                                                                                                                                                                                                                                                                                                                                                                                                                                                                                                                                                                                                                                                                                                 powers of attorney                                                                                                                                                         health care proxies                                                                   and living wills;Estate Administration;Trust Administration;Court Appearances for Estate and Proceedings;Supervising paralegals  NaN                                                                        NaN                                                                                                                                    NaN            NaN          NaN   NaN              NaN        NaN                                                                  NaN      NaN                 NaN              NaN        NaN  ...         NaN         NaN            NaN       NaN       NaN      NaN               NaN               NaN      NaN  NaN\n",
            "Qualifications:Juris Doctor degree (J.D.) from an accredited law schoolLicensed to practice law in New York10-15 years of experienceExperience with various advance directives                                                                                                                                                                                                                                                                                                                                                                                                                                                                                                                                                                                                                                                                                                                                                                                                                                                                                                                   trusts                                                                                                                                                                                                                                                                                                                                                                                                                                                                                                                                                                                                                                                                                                                                                                                                                                                                                                                                                                                                                                           and willsStrong analytical and problem-solving skillsAbility to build rapport with clientsExcellent written and verbal communication skills                               NaN                                                                                   NaN                                                                                                                               NaN                                                                        NaN                                                                                                                                    NaN            NaN          NaN   NaN              NaN        NaN                                                                  NaN      NaN                 NaN              NaN        NaN  ...         NaN         NaN            NaN       NaN       NaN      NaN               NaN               NaN      NaN  NaN\n",
            " Competitive salary commensurate with experienceSalary: $140                                                                                                                                                                                                                                                                                                                                                                                                                                                                                                                                                                                                                                                                                                                                                                                                                                                                                                                                                                                                                                    000- $175                                                                                                                                                                                                                                                                                                                                                                                                                                                                                                                                                                                                                                                                                                                                                                                                                                                                                                                                                                                                                                        000Benefits: 401k                                                                                                                                                           Medical                                                                               Dental                                                                                                                            Life Insurance                                                             PTO                                                                                                                                    and more      NaN          NaN   NaN              NaN        NaN                                                                  NaN      NaN                 NaN              NaN        NaN  ...         NaN         NaN            NaN       NaN       NaN      NaN               NaN               NaN      NaN  NaN\n",
            "\n",
            "[20 rows x 31 columns]\n"
          ]
        }
      ]
    },
    {
      "cell_type": "code",
      "source": [
        "# Checking for exact duplicates across all columns\n",
        "exact_duplicates = jobs_df[jobs_df.duplicated(keep=False)]\n",
        "print(\"Exact Duplicate Rows:\", exact_duplicates.shape[0])\n",
        "\n",
        "# Checking for duplicates based only on job_id but with different details\n",
        "partial_duplicates = jobs_df[jobs_df.duplicated(subset=['job_id'], keep=False) & ~jobs_df.duplicated(keep=False)]\n",
        "print(\"Partial Duplicate Rows:\", partial_duplicates.shape[0])"
      ],
      "metadata": {
        "colab": {
          "base_uri": "https://localhost:8080/"
        },
        "id": "5huQkDN2SRAl",
        "outputId": "c665cad3-7d3a-4d27-e73a-fd9a6ac42256"
      },
      "execution_count": 30,
      "outputs": [
        {
          "output_type": "stream",
          "name": "stdout",
          "text": [
            "Exact Duplicate Rows: 15287\n",
            "Partial Duplicate Rows: 1506\n"
          ]
        }
      ]
    },
    {
      "cell_type": "code",
      "source": [
        "# Droping exact duplicates\n",
        "jobs_df = jobs_df.drop_duplicates()\n",
        "print(\"After dropping exact duplicates:\", jobs_df.shape)"
      ],
      "metadata": {
        "colab": {
          "base_uri": "https://localhost:8080/"
        },
        "id": "mnCy-1pXSVkv",
        "outputId": "ee8856d9-6610-40f5-aced-4fb3dee0cac9"
      },
      "execution_count": 31,
      "outputs": [
        {
          "output_type": "stream",
          "name": "stdout",
          "text": [
            "After dropping exact duplicates: (3567, 31)\n"
          ]
        }
      ]
    },
    {
      "cell_type": "code",
      "source": [
        "print(f\"Final Unique Job IDs: {jobs_df['job_id'].nunique()}\")\n",
        "print(f\"Total Jobs After Cleanup: {jobs_df.shape[0]}\")"
      ],
      "metadata": {
        "colab": {
          "base_uri": "https://localhost:8080/"
        },
        "id": "U0G5O_Q4ScVA",
        "outputId": "8a92bd82-6321-4b30-cbc6-9307890af3df"
      },
      "execution_count": 32,
      "outputs": [
        {
          "output_type": "stream",
          "name": "stdout",
          "text": [
            "Final Unique Job IDs: 2198\n",
            "Total Jobs After Cleanup: 3567\n"
          ]
        }
      ]
    },
    {
      "cell_type": "code",
      "source": [
        "# Checking for remaining duplicate issues\n",
        "print(\"✅ Final Data Integrity Check\")\n",
        "print(\"Duplicate job_id in Jobs Table:\", jobs_df.duplicated(subset=['job_id']).sum())\n",
        "print(\"Duplicate job_id in Job_Industries:\", job_industries_df.duplicated(subset=['job_id', 'industry_id']).sum())\n",
        "print(\"Duplicate company_id in Company_Industries:\", company_industries_df.duplicated(subset=['company_id', 'industry_id']).sum())\n",
        "print(\"Duplicate company_id in Employee_Counts:\", employee_counts_df.duplicated(subset=['company_id']).sum())"
      ],
      "metadata": {
        "colab": {
          "base_uri": "https://localhost:8080/"
        },
        "id": "1A9CDGkeTjAk",
        "outputId": "6cd2b2eb-b2c0-4740-ffe7-1deb8d5ed2bc"
      },
      "execution_count": 37,
      "outputs": [
        {
          "output_type": "stream",
          "name": "stdout",
          "text": [
            "✅ Final Data Integrity Check\n",
            "Duplicate job_id in Jobs Table: 1368\n",
            "Duplicate job_id in Job_Industries: 0\n",
            "Duplicate company_id in Company_Industries: 0\n",
            "Duplicate company_id in Employee_Counts: 11314\n"
          ]
        }
      ]
    },
    {
      "cell_type": "markdown",
      "source": [
        "**Handling Duplicate 'company_id' in Employee_Counts Table**"
      ],
      "metadata": {
        "id": "qceJUmf-T7h1"
      }
    },
    {
      "cell_type": "code",
      "source": [
        "# Keeping only the most recent entry per company (assuming time_recorded field exists)\n",
        "employee_counts_df = employee_counts_df.sort_values(by=['company_id', 'time_recorded'], ascending=[True, False])\n",
        "employee_counts_df = employee_counts_df.drop_duplicates(subset=['company_id'], keep='first')\n",
        "\n",
        "print(\"Duplicate company_id in Employee_Counts:\", employee_counts_df.duplicated(subset=['company_id']).sum())"
      ],
      "metadata": {
        "colab": {
          "base_uri": "https://localhost:8080/"
        },
        "id": "NnfJ87RiTu4r",
        "outputId": "c0669cc0-bf13-46e6-c6bb-9954a8e6e832"
      },
      "execution_count": 39,
      "outputs": [
        {
          "output_type": "stream",
          "name": "stdout",
          "text": [
            "Duplicate company_id in Employee_Counts: 0\n"
          ]
        }
      ]
    },
    {
      "cell_type": "code",
      "source": [
        "# STEP 3: Validating Foreign Key Relationships\n",
        "\n",
        "def foreign_key_integrity(fk_df, fk_column, pk_df, pk_column, table_name):\n",
        "    unmatched_fk = fk_df[~fk_df[fk_column].isin(pk_df[pk_column])]\n",
        "    if unmatched_fk.empty:\n",
        "        print(f\"✅ Referential integrity maintained for {table_name}.{fk_column} → {pk_column}\")\n",
        "    else:\n",
        "        print(f\"⚠️ WARNING: {len(unmatched_fk)} unmatched foreign keys in {table_name}.{fk_column}\")\n",
        "        print(unmatched_fk)\n",
        "\n",
        "company_industries_df.rename(columns={'industry': 'industry_id'}, inplace=True)\n",
        "\n",
        "# Check FK relationships\n",
        "foreign_key_integrity(jobs_df, \"company_id\", companies_df, \"company_id\", \"Jobs\")\n",
        "foreign_key_integrity(salaries_df, \"job_id\", jobs_df, \"job_id\", \"Salaries\")\n",
        "foreign_key_integrity(job_skills_df, \"job_id\", jobs_df, \"job_id\", \"Job_Skills\")\n",
        "foreign_key_integrity(job_skills_df, \"skill_abr\", skills_df, \"skill_abr\", \"Job_Skills\")\n",
        "foreign_key_integrity(job_industries_df, \"job_id\", jobs_df, \"job_id\", \"Job_Industries\")\n",
        "foreign_key_integrity(job_industries_df, \"industry_id\", industries_df, \"industry_id\", \"Job_Industries\")\n",
        "foreign_key_integrity(company_industries_df, \"company_id\", companies_df, \"company_id\", \"Company_Industries\")\n",
        "foreign_key_integrity(company_industries_df, \"industry_id\", industries_df, \"industry_id\", \"Company_Industries\")"
      ],
      "metadata": {
        "colab": {
          "base_uri": "https://localhost:8080/"
        },
        "id": "aGbv4LtgQDvO",
        "outputId": "5d43e9ba-ae68-4e78-941c-dc30c393e876"
      },
      "execution_count": 27,
      "outputs": [
        {
          "output_type": "stream",
          "name": "stdout",
          "text": [
            "⚠️ WARNING: 18714 unmatched foreign keys in Jobs.company_id\n",
            "                                                                                                                                                                                                                                                                                                                                                                                                                                                                                                                                                                                                                                                                                                                                                                                                                                                                                                                                                                                                                                                                                                                                                                                                                                                                                                                                                                                                                                                                                                                                                                                                                                                                                                                                                      job_id    company_name                                                                                                                                                                            title                                                                                                                                                    description       max_salary                                                         pay_period                          location                                        company_id            views                                         med_salary  ... skills_desc listed_time posting_domain                       sponsored            work_type          currency compensation_type normalized_salary zip_code                                    fips\n",
            "921716                                                                                                                                                                                                                                                                                                                                                                                                                                                                                                                                                            Corcoran Sawyer Smith Marketing Coordinator                                                                                                                                                                                     \"Job descriptionA leading real estate firm in New Jersey is seeking an administrative Marketing Coordinator with some experience in graphic design. You will be working closely with our fun  kind           ambitious members of the sales team and our dynamic executive team on a daily basis. This is an opportunity to be part of a fast-growing                                                                                                                                                                                                                                                                                                                  highly respected real estate brokerage with a reputation for exceptional marketing and extraordinary culture of cooperation and inclusion.Who you are:You must be a well-organized  creative                                                                              proactive        positive                                                                                                                                                             and most importantly                                                                                                                                    kind-hearted person. Please   be responsible                                                         respectful   and cool-under-pressure. Please   be proficient in Adobe Creative Cloud (Indesign      Illustrator   Photoshop) and Microsoft Office Suite. Above all  ...       color    religion         gender   gender identity or expression   sexual orientation   national origin          genetics        disability      age   or veteran status.Job Type: Full-time\n",
            "Pay: $18-20/hour                                                                                                                                                                                                                                                                                                                                                                                                                                                                                                                                                  NaN                   NaN                                                                                                                                                                                                       NaN                                                                                                                                                                                          NaN            NaN                                                                                                                                                                                                                                                                                                                                                                                                                                                       NaN                                                                                                                                                                                 NaN                                                                                          NaN             NaN                                                                                                                                                                              NaN                                                                                                                                                            NaN              NaN                                                                NaN                               NaN                                               NaN              NaN                                                NaN  ...         NaN         NaN            NaN                             NaN                  NaN               NaN               NaN               NaN      NaN                                     NaN\n",
            "Expected hours: 35 – 45 per week                                                                                                                                                                                                                                                                                                                                                                                                                                                                                                                                  NaN                   NaN                                                                                                                                                                                                       NaN                                                                                                                                                                                          NaN            NaN                                                                                                                                                                                                                                                                                                                                                                                                                                                       NaN                                                                                                                                                                                 NaN                                                                                          NaN             NaN                                                                                                                                                                              NaN                                                                                                                                                            NaN              NaN                                                                NaN                               NaN                                               NaN              NaN                                                NaN  ...         NaN         NaN            NaN                             NaN                  NaN               NaN               NaN               NaN      NaN                                     NaN\n",
            "Benefits:Paid time offSchedule:8 hour shiftMonday to FridayExperience:Marketing: 1 year (Preferred)Graphic design: 2 years (Preferred)Work Location: In person                                                                                                                                                                                                                                                                                                                                                                                                    NaN                   NaN                                                                                                                                                                                                       NaN                                                                                                                                                                                          NaN            NaN                                                                                                                                                                                                                                                                                                                                                                                                                                                       NaN                                                                                                                                                                                 NaN                                                                                          NaN             NaN                                                                                                                                                                              NaN                                                                                                                                                            NaN              NaN                                                                NaN                               NaN                                               NaN              NaN                                                NaN  ...         NaN         NaN            NaN                             NaN                  NaN               NaN               NaN               NaN      NaN                                     NaN\n",
            "\"                                                                                                                                                                                                                                                                                                                                                                                                                                                                                                                                                                 20.0                  HOURLY                                                                                                                                                                                                    \"Princeton                                                                                                                                                                                    NJ\"           2774458.0                                                                                                                                                                                                                                                                                                                                                                                                                                                 20.0                                                                                                                                                                                NaN                                                                                         17.0       Full-time                                                                                                                                                                              2.0                                                                                                                                                1713397508000.0              NaN  https://www.linkedin.com/jobs/view/921716/?trk=jobs_biz_prem_srch                               NaN                                ComplexOnsiteApply  1715989508000.0                                                NaN  ...         NaN         NaN            NaN                             NaN                  NaN               NaN               NaN               NaN      NaN                                     NaN\n",
            "...                                                                                                                                                                                                                                                                                                                                                                                                                                                                                                                                                                                                                                                                                                                                                                                                                                                                                                                                                                                                                                                                                                                                                                                                                                                                                                                                                                                                                                                                                                                                                                                                                                                                                                                                                      ...             ...                                                                                                                                                                              ...                                                                                                                                                            ...              ...                                                                ...                               ...                                               ...              ...                                                ...  ...         ...         ...            ...                             ...                  ...               ...               ...               ...      ...                                     ...\n",
            "Mission: L.A. Care’s mission is to provide access to quality health care for Los Angeles County's vulnerable and low-income communities and residents and to support the safety net required to achieve that purpose.                                                                                                                                                                                                                                                                                                                                             NaN                   NaN                                                                                                                                                                                                       NaN                                                                                                                                                                                          NaN            NaN                                                                                                                                                                                                                                                                                                                                                                                                                                                       NaN                                                                                                                                                                                 NaN                                                                                          NaN             NaN                                                                                                                                                                              NaN                                                                                                                                                            NaN              NaN                                                                NaN                               NaN                                               NaN              NaN                                                NaN  ...         NaN         NaN            NaN                             NaN                  NaN               NaN               NaN               NaN      NaN                                     NaN\n",
            "Job Summary                                                                                                                                                                                                                                                                                                                                                                                                                                                                                                                                                       NaN                   NaN                                                                                                                                                                                                       NaN                                                                                                                                                                                          NaN            NaN                                                                                                                                                                                                                                                                                                                                                                                                                                                       NaN                                                                                                                                                                                 NaN                                                                                          NaN             NaN                                                                                                                                                                              NaN                                                                                                                                                            NaN              NaN                                                                NaN                               NaN                                               NaN              NaN                                                NaN  ...         NaN         NaN            NaN                             NaN                  NaN               NaN               NaN               NaN      NaN                                     NaN\n",
            "The Business Analyst II works closely with business units to gain in-depth business understanding of customer’s business strategy processes                                                                                                                                                                                                                                                                                                                                                                                                                        services              roadmaps and the content in which the business operates. The Business Analyst is focus-driven                                                                                                             focusing on strategy                                                                                                                                                                         collaboration  prioritization based on value off internal and external customers. The position consults and collaborates with internal and external customers to address any issues that are contributing to inaccurate or inefficient procedures/ processes within the Department. This position is key to understanding the documenting capabilities needed to address business challenges. It is responsible for reviewing end-to-end business processes to identify  address                                                                                                                                                                             and remediate operational and functional risks. This position conducts a strengths   weaknesses   opportunities   and threats (SWOT) analysis to identify opportunities to improve operational efficiency. It is responsible for a full range of activities leading small to large size projects   assist project managers on complex projects related to operational business functions affecting internal departments and external customers at market level.              NaN                                                                NaN                               NaN                                               NaN              NaN                                                NaN  ...         NaN         NaN            NaN                             NaN                  NaN               NaN               NaN               NaN      NaN                                     NaN\n",
            "Duties                                                                                                                                                                                                                                                                                                                                                                                                                                                                                                                                                            NaN                   NaN                                                                                                                                                                                                       NaN                                                                                                                                                                                          NaN            NaN                                                                                                                                                                                                                                                                                                                                                                                                                                                       NaN                                                                                                                                                                                 NaN                                                                                          NaN             NaN                                                                                                                                                                              NaN                                                                                                                                                            NaN              NaN                                                                NaN                               NaN                                               NaN              NaN                                                NaN  ...         NaN         NaN            NaN                             NaN                  NaN               NaN               NaN               NaN      NaN                                     NaN\n",
            "Participate and contribute in multiple projects by completing and updating project documentation; managing project scope; adjusting schedules when necessary; determining daily priorities; ensuring efficient and on-time delivery of project tasks and milestones; follow escalation process; and managing customer relationships. Ensure data is valid and reliable; develop business process improvement; monitor and update software as needed; partner with internal and external customers to accomplish long-term business strategies and goals. Identify  create                and facilitate process design changes by conducting business and systems process analysis and design at a complex level; focusing on quality improvement and data management. Identify improvement oppor NaN                                                                                                                                                                                          NaN            NaN                                                                                                                                                                                                                                                                                                                                                                                                                                                       NaN                                                                                                                                                                                 NaN                                                                                          NaN             NaN                                                                                                                                                                              NaN                                                                                                                                                            NaN              NaN                                                                NaN                               NaN                                               NaN              NaN                                                NaN  ...         NaN         NaN            NaN                             NaN                  NaN               NaN               NaN               NaN      NaN                                     NaN\n",
            "\n",
            "[18714 rows x 31 columns]\n",
            "⚠️ WARNING: 40785 unmatched foreign keys in Salaries.job_id\n",
            "       salary_id      job_id  max_salary  med_salary  min_salary pay_period currency compensation_type\n",
            "0              1  3884428798         NaN        20.0         NaN     HOURLY      USD       BASE_SALARY\n",
            "1              2  3887470552       25.00         NaN        23.0     HOURLY      USD       BASE_SALARY\n",
            "2              3  3884431523   120000.00         NaN    100000.0     YEARLY      USD       BASE_SALARY\n",
            "3              4  3884911725   200000.00         NaN     10000.0     YEARLY      USD       BASE_SALARY\n",
            "4              5  3887473220       35.00         NaN        33.0     HOURLY      USD       BASE_SALARY\n",
            "...          ...         ...         ...         ...         ...        ...      ...               ...\n",
            "40780      40781  3902881498         NaN        15.5         NaN     HOURLY      USD       BASE_SALARY\n",
            "40781      40782  3902883232         NaN        25.0         NaN     HOURLY      USD       BASE_SALARY\n",
            "40782      40783  3902866633       21.53         NaN        21.1     HOURLY      USD       BASE_SALARY\n",
            "40783      40784  3902879720   125000.00         NaN    100000.0     YEARLY      USD       BASE_SALARY\n",
            "40784      40785  3902878689    85862.00         NaN     63601.0     YEARLY      USD       BASE_SALARY\n",
            "\n",
            "[40785 rows x 8 columns]\n",
            "⚠️ WARNING: 213768 unmatched foreign keys in Job_Skills.job_id\n",
            "            job_id skill_abr\n",
            "0       3884428798      MRKT\n",
            "1       3884428798        PR\n",
            "2       3884428798       WRT\n",
            "3       3887473071      SALE\n",
            "4       3887465684       FIN\n",
            "...            ...       ...\n",
            "213763  3902876855        HR\n",
            "213764  3902878689      MGMT\n",
            "213765  3902878689      MNFC\n",
            "213766  3902883233      SALE\n",
            "213767  3902883233      MGMT\n",
            "\n",
            "[213768 rows x 2 columns]\n",
            "✅ Referential integrity maintained for Job_Skills.skill_abr → skill_abr\n",
            "⚠️ WARNING: 164808 unmatched foreign keys in Job_Industries.job_id\n",
            "            job_id  industry_id\n",
            "0       3884428798           82\n",
            "1       3887473071           48\n",
            "2       3887465684           41\n",
            "3       3887467939           82\n",
            "4       3887467939           80\n",
            "...            ...          ...\n",
            "164803  3902882321          104\n",
            "164804  3902879720           27\n",
            "164805  3902876855           80\n",
            "164806  3902878689          116\n",
            "164807  3902883233           44\n",
            "\n",
            "[164808 rows x 2 columns]\n",
            "✅ Referential integrity maintained for Job_Industries.industry_id → industry_id\n",
            "✅ Referential integrity maintained for Company_Industries.company_id → company_id\n",
            "⚠️ WARNING: 24375 unmatched foreign keys in Company_Industries.industry_id\n",
            "       company_id                                          industry_id\n",
            "0          391906                       Book and Periodical Publishing\n",
            "1        22292832                                         Construction\n",
            "2           20300                                              Banking\n",
            "3         3570660                       Book and Periodical Publishing\n",
            "4          878353                              Staffing and Recruiting\n",
            "...           ...                                                  ...\n",
            "24370       32313                      Retail Luxury Goods and Jewelry\n",
            "24371    15225088                        IT Services and IT Consulting\n",
            "24372     2852377                                          Hospitality\n",
            "24373    19114724                                         Construction\n",
            "24374     8060959  Transportation, Logistics, Supply Chain and Storage\n",
            "\n",
            "[24375 rows x 2 columns]\n"
          ]
        }
      ]
    },
    {
      "cell_type": "markdown",
      "source": [
        "**Handling unmatched 'company_id' in Jobs Table**"
      ],
      "metadata": {
        "id": "uDx6OmYEQDdk"
      }
    },
    {
      "cell_type": "code",
      "source": [
        "# Converting company_id to the same type\n",
        "jobs_df[\"company_id\"] = jobs_df[\"company_id\"].astype(str)\n",
        "companies_df[\"company_id\"] = companies_df[\"company_id\"].astype(str)\n",
        "\n",
        "# Dropping jobs where company_id is missing\n",
        "jobs_df = jobs_df.dropna(subset=[\"company_id\"])\n",
        "\n",
        "# Removing jobs where company_id is not found in Companies table\n",
        "jobs_df = jobs_df[jobs_df[\"company_id\"].isin(companies_df[\"company_id\"])]\n",
        "\n",
        "print(f\"✅ Fixed: Remaining unmatched company_id in Jobs: {len(jobs_df[~jobs_df['company_id'].isin(companies_df['company_id'])])}\")"
      ],
      "metadata": {
        "colab": {
          "base_uri": "https://localhost:8080/"
        },
        "id": "_805VJ3LUbR4",
        "outputId": "1bf9cdac-dc53-4007-a997-0e9cbd5985fd"
      },
      "execution_count": 40,
      "outputs": [
        {
          "output_type": "stream",
          "name": "stdout",
          "text": [
            "✅ Fixed: Remaining unmatched company_id in Jobs: 0\n"
          ]
        },
        {
          "output_type": "stream",
          "name": "stderr",
          "text": [
            "<ipython-input-40-97888d3f253f>:2: SettingWithCopyWarning: \n",
            "A value is trying to be set on a copy of a slice from a DataFrame.\n",
            "Try using .loc[row_indexer,col_indexer] = value instead\n",
            "\n",
            "See the caveats in the documentation: https://pandas.pydata.org/pandas-docs/stable/user_guide/indexing.html#returning-a-view-versus-a-copy\n",
            "  jobs_df[\"company_id\"] = jobs_df[\"company_id\"].astype(str)\n"
          ]
        }
      ]
    },
    {
      "cell_type": "markdown",
      "source": [
        "**Handling unmatched 'job_id' in Salaries Table**"
      ],
      "metadata": {
        "id": "QNw4CzWSUm7h"
      }
    },
    {
      "cell_type": "code",
      "source": [
        "# Converting job_id to the same type\n",
        "salaries_df[\"job_id\"] = salaries_df[\"job_id\"].astype(str)\n",
        "jobs_df[\"job_id\"] = jobs_df[\"job_id\"].astype(str)\n",
        "\n",
        "# Removing salaries with missing job_id\n",
        "salaries_df = salaries_df.dropna(subset=[\"job_id\"])\n",
        "\n",
        "# Keeping only valid job_id values\n",
        "salaries_df = salaries_df[salaries_df[\"job_id\"].isin(jobs_df[\"job_id\"])]\n",
        "\n",
        "print(f\"✅ Fixed: Remaining unmatched job_id in Salaries: {len(salaries_df[~salaries_df['job_id'].isin(jobs_df['job_id'])])}\")"
      ],
      "metadata": {
        "colab": {
          "base_uri": "https://localhost:8080/"
        },
        "id": "YeZft-2hUjmP",
        "outputId": "cbff25e0-79dd-4f72-865f-31fabc3c6b13"
      },
      "execution_count": 41,
      "outputs": [
        {
          "output_type": "stream",
          "name": "stdout",
          "text": [
            "✅ Fixed: Remaining unmatched job_id in Salaries: 0\n"
          ]
        }
      ]
    },
    {
      "cell_type": "markdown",
      "source": [
        "**Handling unmatched 'job_id' in Job_Skills Table**"
      ],
      "metadata": {
        "id": "GMzzdcBZUztE"
      }
    },
    {
      "cell_type": "code",
      "source": [
        "# Converting job_id to the same type\n",
        "job_skills_df[\"job_id\"] = job_skills_df[\"job_id\"].astype(str)\n",
        "\n",
        "# Keeping only valid job_id values\n",
        "job_skills_df = job_skills_df[job_skills_df[\"job_id\"].isin(jobs_df[\"job_id\"])]\n",
        "\n",
        "print(f\"✅ Fixed: Remaining unmatched job_id in Job_Skills: {len(job_skills_df[~job_skills_df['job_id'].isin(jobs_df['job_id'])])}\")"
      ],
      "metadata": {
        "colab": {
          "base_uri": "https://localhost:8080/"
        },
        "id": "2ubf1jFQUzRX",
        "outputId": "4d112de0-79cb-4dc2-9a23-d9cd9714b972"
      },
      "execution_count": 42,
      "outputs": [
        {
          "output_type": "stream",
          "name": "stdout",
          "text": [
            "✅ Fixed: Remaining unmatched job_id in Job_Skills: 0\n"
          ]
        }
      ]
    },
    {
      "cell_type": "markdown",
      "source": [
        "**Handling unmatched job_id in Job_Industries Table**"
      ],
      "metadata": {
        "id": "dPuxs0LBl0xh"
      }
    },
    {
      "cell_type": "code",
      "source": [
        "# Converting job_id to the same type\n",
        "job_industries_df[\"job_id\"] = job_industries_df[\"job_id\"].astype(str)\n",
        "\n",
        "# Keeping only valid job_id values\n",
        "job_industries_df = job_industries_df[job_industries_df[\"job_id\"].isin(jobs_df[\"job_id\"])]\n",
        "\n",
        "print(f\"✅ Fixed: Remaining unmatched job_id in Job_Industries: {len(job_industries_df[~job_industries_df['job_id'].isin(jobs_df['job_id'])])}\")"
      ],
      "metadata": {
        "colab": {
          "base_uri": "https://localhost:8080/"
        },
        "id": "a7jHibhfU8LC",
        "outputId": "af217b72-6890-4f97-9de5-0f020713896a"
      },
      "execution_count": 43,
      "outputs": [
        {
          "output_type": "stream",
          "name": "stdout",
          "text": [
            "✅ Fixed: Remaining unmatched job_id in Job_Industries: 0\n"
          ]
        }
      ]
    },
    {
      "cell_type": "markdown",
      "source": [
        "**Handling unmatched industry_id in Company_Industries Table**"
      ],
      "metadata": {
        "id": "xgPVfQEpl-fF"
      }
    },
    {
      "cell_type": "code",
      "source": [
        "# Converting industry names to industry IDs\n",
        "industry_name_to_id = dict(zip(industries_df[\"industry_name\"], industries_df[\"industry_id\"]))\n",
        "company_industries_df[\"industry_id\"] = company_industries_df[\"industry_id\"].replace(industry_name_to_id)"
      ],
      "metadata": {
        "id": "DkFoW0YnmBun"
      },
      "execution_count": 45,
      "outputs": []
    },
    {
      "cell_type": "code",
      "source": [
        "# Converting industry_id to string type for consistency\n",
        "company_industries_df[\"industry_id\"] = company_industries_df[\"industry_id\"].astype(str)\n",
        "industries_df[\"industry_id\"] = industries_df[\"industry_id\"].astype(str)\n",
        "\n",
        "# Keeping only valid industry_id values\n",
        "company_industries_df = company_industries_df[company_industries_df[\"industry_id\"].isin(industries_df[\"industry_id\"])]\n",
        "\n",
        "print(f\"✅ Fixed: Remaining unmatched industry_id in Company_Industries: {len(company_industries_df[~company_industries_df['industry_id'].isin(industries_df['industry_id'])])}\")"
      ],
      "metadata": {
        "colab": {
          "base_uri": "https://localhost:8080/"
        },
        "id": "4Ioopc0tmLG4",
        "outputId": "f4cb43ec-0b9d-4fdb-afa4-bc6384d2ca2b"
      },
      "execution_count": 46,
      "outputs": [
        {
          "output_type": "stream",
          "name": "stdout",
          "text": [
            "✅ Fixed: Remaining unmatched industry_id in Company_Industries: 0\n"
          ]
        }
      ]
    },
    {
      "cell_type": "code",
      "source": [
        "# Checking again after cleaning\n",
        "foreign_key_integrity(jobs_df, \"company_id\", companies_df, \"company_id\", \"Jobs Table\")\n",
        "foreign_key_integrity(salaries_df, \"job_id\", jobs_df, \"job_id\", \"Salaries Table\")\n",
        "foreign_key_integrity(job_skills_df, \"job_id\", jobs_df, \"job_id\", \"Job Skills Table\")\n",
        "foreign_key_integrity(job_industries_df, \"job_id\", jobs_df, \"job_id\", \"Job Industries Table\")\n",
        "foreign_key_integrity(company_industries_df, \"industry_id\", industries_df, \"industry_id\", \"Company Industries Table\")"
      ],
      "metadata": {
        "colab": {
          "base_uri": "https://localhost:8080/"
        },
        "id": "AlTc02ALmPeA",
        "outputId": "87e5820f-63c8-46e4-90c2-a90229e43c4c"
      },
      "execution_count": 49,
      "outputs": [
        {
          "output_type": "stream",
          "name": "stdout",
          "text": [
            "✅ Referential integrity maintained for Jobs Table.company_id → company_id\n",
            "✅ Referential integrity maintained for Salaries Table.job_id → job_id\n",
            "✅ Referential integrity maintained for Job Skills Table.job_id → job_id\n",
            "✅ Referential integrity maintained for Job Industries Table.job_id → job_id\n",
            "✅ Referential integrity maintained for Company Industries Table.industry_id → industry_id\n"
          ]
        }
      ]
    },
    {
      "cell_type": "markdown",
      "source": [
        "### **Field-Level Integrity Checks**"
      ],
      "metadata": {
        "id": "v9RT20sunA0f"
      }
    },
    {
      "cell_type": "code",
      "source": [
        "# Step 4: Validation checks\n",
        "def check_column_values(df, column, min_value=None, max_value=None, allowed_values=None):\n",
        "    issues_found = False  # Flag to track issues\n",
        "\n",
        "    if min_value is not None and df[column].min() < min_value:\n",
        "        print(f\"⚠️ WARNING: {column} has values below {min_value}\")\n",
        "        issues_found = True\n",
        "\n",
        "    if max_value is not None and df[column].max() > max_value:\n",
        "        print(f\"⚠️ WARNING: {column} has values above {max_value}\")\n",
        "        issues_found = True\n",
        "\n",
        "    if allowed_values is not None and not df[column].isin(allowed_values).all():\n",
        "        print(f\"⚠️ WARNING: {column} contains invalid values: {df[~df[column].isin(allowed_values)][column].unique()}\")\n",
        "        issues_found = True\n",
        "\n",
        "    if not issues_found:\n",
        "        print(f\"✅ {column} values are within the expected range.\")\n",
        "\n",
        "# Validating salary range (Assume min salary should be ≥0 and max salary ≤ 500,000)\n",
        "check_column_values(salaries_df, \"min_salary\", min_value=0)\n",
        "check_column_values(salaries_df, \"max_salary\", max_value=500000)\n",
        "\n",
        "# Validating company size (Assume values between 1-7)\n",
        "check_column_values(companies_df, \"company_size\", min_value=1, max_value=7)\n",
        "\n",
        "# Validating pay period (Assume only [\"Hourly\", \"Monthly\", \"Yearly\"] are allowed)\n",
        "check_column_values(salaries_df, \"pay_period\", allowed_values=[\"Hourly\", \"Monthly\", \"Yearly\"])"
      ],
      "metadata": {
        "colab": {
          "base_uri": "https://localhost:8080/"
        },
        "id": "LOzPrQXYmyr_",
        "outputId": "64e7a116-a0cd-4b5c-cffa-ab54f6893f27"
      },
      "execution_count": 51,
      "outputs": [
        {
          "output_type": "stream",
          "name": "stdout",
          "text": [
            "✅ min_salary values are within the expected range.\n",
            "✅ max_salary values are within the expected range.\n",
            "✅ company_size values are within the expected range.\n",
            "✅ pay_period values are within the expected range.\n"
          ]
        }
      ]
    },
    {
      "cell_type": "code",
      "source": [
        "# STEP 5: Checking for overall Missing Values\n",
        "def check_missing_values(df):\n",
        "    missing_values = df.isnull().sum()\n",
        "    if missing_values.any():\n",
        "        print(f\"⚠️ WARNING: Missing values detected in {df.name}:\\n{missing_values[missing_values > 0]}\")\n",
        "    else:\n",
        "        print(f\"✅ No missing values in {df.name}\")\n",
        "\n",
        "# Runningmissing value checks\n",
        "for name, (df, _) in datasets.items():\n",
        "    df.name = name\n",
        "    check_missing_values(df)"
      ],
      "metadata": {
        "colab": {
          "base_uri": "https://localhost:8080/"
        },
        "id": "x4omnS0xndBJ",
        "outputId": "1b71eb6d-75d4-45e9-df11-d6988bfd8aba"
      },
      "execution_count": 52,
      "outputs": [
        {
          "output_type": "stream",
          "name": "stdout",
          "text": [
            "⚠️ WARNING: Missing values detected in Jobs:\n",
            "job_id                        15443\n",
            "company_name                  15532\n",
            "title                         16207\n",
            "description                   16059\n",
            "max_salary                    16874\n",
            "pay_period                    16531\n",
            "location                      17011\n",
            "company_id                    16745\n",
            "views                         16913\n",
            "med_salary                    17663\n",
            "min_salary                    17517\n",
            "formatted_work_type           17833\n",
            "applies                       17368\n",
            "original_listed_time          17646\n",
            "remote_allowed                17262\n",
            "job_posting_url               17274\n",
            "application_url               17759\n",
            "application_type              17809\n",
            "expiry                        17946\n",
            "closed_time                   17577\n",
            "formatted_experience_level    17574\n",
            "skills_desc                   18183\n",
            "listed_time                   18274\n",
            "posting_domain                18391\n",
            "sponsored                     18451\n",
            "work_type                     18527\n",
            "currency                      18575\n",
            "compensation_type             18593\n",
            "normalized_salary             18616\n",
            "zip_code                      18651\n",
            "fips                          18688\n",
            "dtype: int64\n",
            "⚠️ WARNING: Missing values detected in 0        Companies\n",
            "1        Companies\n",
            "2        Companies\n",
            "3        Companies\n",
            "4        Companies\n",
            "           ...    \n",
            "24468    Companies\n",
            "24469    Companies\n",
            "24470    Companies\n",
            "24471    Companies\n",
            "24472    Companies\n",
            "Name: name, Length: 24473, dtype: object:\n",
            "description      297\n",
            "company_size    2774\n",
            "state             22\n",
            "city               1\n",
            "zip_code          28\n",
            "address           22\n",
            "dtype: int64\n",
            "⚠️ WARNING: Missing values detected in Salaries:\n",
            "max_salary     6838\n",
            "med_salary    33947\n",
            "min_salary     6838\n",
            "dtype: int64\n",
            "✅ No missing values in Skills\n",
            "⚠️ WARNING: Missing values detected in Industries:\n",
            "industry_name    34\n",
            "dtype: int64\n",
            "✅ No missing values in Job_Skills\n",
            "✅ No missing values in Job_Industries\n",
            "✅ No missing values in Company_Industries\n",
            "✅ No missing values in Employee_Counts\n"
          ]
        }
      ]
    },
    {
      "cell_type": "code",
      "source": [
        "# Handling Missing Values in Jobs Table\n",
        "# Droping rows where job_id, title, or company_id are missing\n",
        "jobs_df = jobs_df.dropna(subset=[\"job_id\", \"title\", \"company_id\"])\n",
        "\n",
        "# Filling missing descriptions with \"No description provided\"\n",
        "jobs_df[\"description\"] = jobs_df[\"description\"].fillna(\"No description provided\")\n",
        "\n",
        "# Filling missing salary values with the median salary\n",
        "jobs_df[\"max_salary\"] = jobs_df[\"max_salary\"].fillna(jobs_df[\"max_salary\"].median())\n",
        "jobs_df[\"med_salary\"] = jobs_df[\"med_salary\"].fillna(jobs_df[\"med_salary\"].median())\n",
        "jobs_df[\"min_salary\"] = jobs_df[\"min_salary\"].fillna(jobs_df[\"min_salary\"].median())\n",
        "\n",
        "# Filling categorical columns with \"Unknown\"\n",
        "categorical_columns = [\"pay_period\", \"location\", \"formatted_work_type\", \"work_type\", \"currency\"]\n",
        "for col in categorical_columns:\n",
        "    jobs_df[col] = jobs_df[col].fillna(\"Unknown\")"
      ],
      "metadata": {
        "id": "qoQub-RWomjN"
      },
      "execution_count": 53,
      "outputs": []
    },
    {
      "cell_type": "code",
      "source": [
        "# Handling Missing Values in Companies Table\n",
        "# Droping companies where 'company_id' or 'name' is missing\n",
        "companies_df = companies_df.dropna(subset=[\"company_id\", \"name\"])\n",
        "\n",
        "# Filling missing descriptions with \"No description available\"\n",
        "companies_df[\"description\"] = companies_df[\"description\"].fillna(\"No description available\")\n",
        "\n",
        "# Filling missing company size with the most frequent value (mode)\n",
        "companies_df[\"company_size\"] = companies_df[\"company_size\"].fillna(companies_df[\"company_size\"].mode()[0])\n",
        "\n",
        "# Filling missing locations with \"Unknown\"\n",
        "location_columns = [\"state\", \"city\", \"zip_code\", \"address\"]\n",
        "for col in location_columns:\n",
        "    companies_df[col] = companies_df[col].fillna(\"Unknown\")"
      ],
      "metadata": {
        "id": "QfdsTwaSozTe"
      },
      "execution_count": 54,
      "outputs": []
    },
    {
      "cell_type": "code",
      "source": [
        "# Handling Missing Values in Salaries Table\n",
        "# Droping salary records where job_id is missing\n",
        "salaries_df = salaries_df.dropna(subset=[\"job_id\"])\n",
        "\n",
        "# Filling missing salary values with median\n",
        "salary_columns = [\"max_salary\", \"med_salary\", \"min_salary\"]\n",
        "for col in salary_columns:\n",
        "    salaries_df[col] = salaries_df[col].fillna(salaries_df[col].median())"
      ],
      "metadata": {
        "id": "1arcoTyEo6AW"
      },
      "execution_count": 55,
      "outputs": []
    },
    {
      "cell_type": "code",
      "source": [
        "# Handling Missing Values in Industries Table\n",
        "# Droping industries where industry_id is missing\n",
        "industries_df = industries_df.dropna(subset=[\"industry_id\"])\n",
        "\n",
        "# Filling missing industry names with \"Unknown Industry\"\n",
        "industries_df[\"industry_name\"] = industries_df[\"industry_name\"].fillna(\"Unknown Industry\")"
      ],
      "metadata": {
        "id": "FxFB2VUlpGKg"
      },
      "execution_count": 56,
      "outputs": []
    },
    {
      "cell_type": "code",
      "source": [
        "print(\"✅ Checking for remaining missing values:\")\n",
        "print(\"Jobs missing values:\\n\", jobs_df.isnull().sum())\n",
        "print(\"Companies missing values:\\n\", companies_df.isnull().sum())\n",
        "print(\"Salaries missing values:\\n\", salaries_df.isnull().sum())\n",
        "print(\"Industries missing values:\\n\", industries_df.isnull().sum())"
      ],
      "metadata": {
        "colab": {
          "base_uri": "https://localhost:8080/"
        },
        "id": "xYo-Vyw9pNjo",
        "outputId": "2faf8b4f-f1bb-4ddf-c32e-238617d379f4"
      },
      "execution_count": 57,
      "outputs": [
        {
          "output_type": "stream",
          "name": "stdout",
          "text": [
            "✅ Checking for remaining missing values:\n",
            "Jobs missing values:\n",
            " job_id                        0\n",
            "company_name                  0\n",
            "title                         0\n",
            "description                   0\n",
            "max_salary                    0\n",
            "pay_period                    0\n",
            "location                      0\n",
            "company_id                    0\n",
            "views                         0\n",
            "med_salary                    0\n",
            "min_salary                    0\n",
            "formatted_work_type           0\n",
            "applies                       0\n",
            "original_listed_time          0\n",
            "remote_allowed                0\n",
            "job_posting_url               0\n",
            "application_url               0\n",
            "application_type              0\n",
            "expiry                        0\n",
            "closed_time                   0\n",
            "formatted_experience_level    0\n",
            "skills_desc                   0\n",
            "listed_time                   0\n",
            "posting_domain                0\n",
            "sponsored                     0\n",
            "work_type                     0\n",
            "currency                      0\n",
            "compensation_type             0\n",
            "normalized_salary             0\n",
            "zip_code                      0\n",
            "fips                          0\n",
            "dtype: int64\n",
            "Companies missing values:\n",
            " company_id      0\n",
            "name            0\n",
            "description     0\n",
            "company_size    0\n",
            "state           0\n",
            "country         0\n",
            "city            0\n",
            "zip_code        0\n",
            "address         0\n",
            "url             0\n",
            "dtype: int64\n",
            "Salaries missing values:\n",
            " salary_id            0\n",
            "job_id               0\n",
            "max_salary           0\n",
            "med_salary           0\n",
            "min_salary           0\n",
            "pay_period           0\n",
            "currency             0\n",
            "compensation_type    0\n",
            "dtype: int64\n",
            "Industries missing values:\n",
            " industry_id      0\n",
            "industry_name    0\n",
            "dtype: int64\n"
          ]
        }
      ]
    },
    {
      "cell_type": "markdown",
      "source": [
        "## **Explanation on Verification of Data Integrity Process and Results (Step by Step)**\n",
        "\n",
        "We carried out the data integrity checks to guarantee our dataset is clean, correct, and trustworthy for downstream analysis. The following is a simple breakdown of the steps we followed, the issues we found, and how we fixed them.\n",
        "\n",
        "### Step 1: Checking for Missing Values\n",
        "\n",
        "**What We Did:**\n",
        "We scanned every table in the dataset for the presence of missing entries by using a function that computed the number of NaN (Null) values across all columns.\n",
        "\n",
        "**What We Found:**\n",
        "\n",
        "* The Jobs table contained over 18,000 missing values in fields such as companyid, title, description, salary, location and job posting URL.\n",
        "\n",
        "* The Companies table had missing data in description, companysize, city, and state.\n",
        "\n",
        "* The Salaries table contained more than 6,800 missing salaries (maxsalary, medsalary, minsalary).\n",
        "\n",
        "* The Industries table had 34 missing industry names.\n",
        "\n",
        "**How We Fixed It:**\n",
        "* When a critical field (e.g., jobid, companyid, companyname, title) was not available, we skipped those rows as they were not usable.\n",
        "\n",
        "* For a descriptive field (e.g., description, industryname), we imputed \"Unknown\" or \"No description provided\", if it was absent.\n",
        "\n",
        "* For an absence in a numeric field (e.g., salary), we impute with the median value to maintain balanced data.\n",
        "\n",
        "* In case of a miss on categorical field (e.g., payperiod, worktype), we imputed it to \"Unknown.\n",
        "\n",
        "**Final Result:** The missing values were either dropped or imputed in which no critical information was left blank.\n",
        "\n",
        "### Step 2: Checking for Duplicate Values\n",
        "\n",
        "**What We Did:** We searched for the presence of duplicated values in the columns of tables in which each row can be considered to be unique (e.g., jobid in the Jobs table or companyid in the Companies table). We used code to detect duplicates.\n",
        "\n",
        "**What We Found:**\n",
        "\n",
        "* A few duplicate job postings had the same jobid.\n",
        "\n",
        "* Some companies were listed multiple times under different formats.\n",
        "\n",
        "**How We Fixed It:**\n",
        "\n",
        "* We excluded duplicate rows so as to retain only one unique row per job and company.\n",
        "\n",
        "* For companies that have very similar names but differing companyid, we retained the first firm encountered and neglected duplicates.\n",
        "\n",
        "**Final Result:** The resulting dataset is now unique with respect to jobs and companies, and thus more trustworthy.\n",
        "\n",
        "### Step 3: Checking for Foreign Key Issues (Referential Integrity)\n",
        "\n",
        "**What We Did:**\n",
        "\n",
        "We checked if foreign keys (which link different tables) matched correctly. For example:\n",
        "\n",
        "* Each companyid in the Jobs table should be present in the Companies table.\n",
        "\n",
        "* Each jobid in Salaries table must be present in Jobs table.\n",
        "\n",
        "* That all industryid in the CompanyIndustries table are in the Industries table.\n",
        "\n",
        "**What We Found:**\n",
        "\n",
        "* With 18,714 job postings, a companyid was missing in the Companies table.\n",
        "\n",
        "* 40,785 salary records had a jobid that did not exist in the Jobs table.\n",
        "\n",
        "* 213,768 skill mappings had a jobid that was not in the Jobs table.\n",
        "\n",
        "* 24,375 industry mappings had an industryid that did not match the Industries table.\n",
        "\n",
        "**How We Fixed It:**\n",
        "\n",
        "* When a job or company did not exist in the main table, we deleted those unmatched records.\n",
        "\n",
        "* If some industry_id values were stored as text, we reformatted them so that they match numbers.\n",
        "\n",
        "* When missing jobs or companies were relevant, we flagged them as \"Unknown\" to remove them as we did other missing values, and not by deleting them.\n",
        "\n",
        "**Final Result:** The foreign key constraints were absolute, guaranteeing that every job, salary, and skill is correctly related.\n",
        "\n",
        "### Step 4: Handling Data Manually (Without Code)\n",
        "\n",
        "**What We Did By Hand:**\n",
        "\n",
        "* There were a few instances where employing code was not the most efficient solution and we had to manually process the data.\n",
        "\n",
        "* Company Name Issues  Some companies had slightly different spellings (e.g., \"Google LLC\" vs. \"Google Inc.\". Instead of blindly merging them with code, we manually reviewed and standardized the names.\n",
        "\n",
        "* Industry Names vs. IDs  Some industries were stored as text instead of numeric IDs. We hand mapped them to verify that they are in agreement with official categories.\n",
        "\n",
        "* Job Titles with Extra Spaces  Some job titles had leading or trailing spaces (e.g., \" Data Scientist \" instead of \"Data Scientist\". We did not remove spaces in a case where automatic cleaning was unsatisfactory.\n",
        "\n",
        "**Final Result:** These manual corrections enhanced data accuracy when automated corrections were unsafe.\n",
        "\n",
        "## **Generative AI Prompts used for this assignment**\n",
        "\n",
        "We used AI tools like ChatGPT to help guide my understanding of data validation, cleaning, and referential integrity checks. We used various prompts to explore best practices for handling missing values, fixing unmatched foreign keys, and structuring my dataset properly. The AI provided me with explanations and coding techniques, but we wrote, tested, and modified the code ourselves based on my dataset.\n",
        "\n",
        "1. \"How do I check if primary keys are unique in a Pandas DataFrame?\"\n",
        "2. \"How can I validate referential integrity between two tables in Python?\"\n",
        "3. \"How do I check for inconsistent category values in a dataset?\"\n",
        "4. \"What should I do if my dataset contains too many missing values?\"\n",
        "5. \"How do I clean up text data with leading/trailing spaces in a Pandas DataFrame?\"\n",
        "6. \"How do I detect and merge duplicate companies with slight name differences?\"\n",
        "7. \"How can I manually inspect a large dataset for formatting issues?\"\n",
        "8. \"What should I do if some company IDs in the job postings table don’t exist in the companies table?\"\n",
        "\n"
      ],
      "metadata": {
        "id": "MO9cRZQfseAp"
      }
    },
    {
      "cell_type": "code",
      "source": [
        "# saving the cleaned datasets\n",
        "cleaned_files = {\n",
        "    \"jobs_cleaned.csv\": jobs_df,\n",
        "    \"companies_cleaned.csv\": companies_df,\n",
        "    \"salaries_cleaned.csv\": salaries_df,\n",
        "    \"skills_cleaned.csv\": skills_df,\n",
        "    \"job_skills_cleaned.csv\": job_skills_df,\n",
        "    \"industries_cleaned.csv\": industries_df,\n",
        "    \"job_industries_cleaned.csv\": job_industries_df,\n",
        "    \"company_industries_cleaned.csv\": company_industries_df,\n",
        "    \"employee_counts_cleaned.csv\": employee_counts_df\n",
        "}\n",
        "\n",
        "for file_name, df in cleaned_files.items():\n",
        "    df.to_csv(file_name, index=False)\n",
        "\n",
        "print(\"✅ Cleaned datasets saved successfully!\")"
      ],
      "metadata": {
        "colab": {
          "base_uri": "https://localhost:8080/"
        },
        "id": "pxEGrbabwjgg",
        "outputId": "32c5ac24-0bca-441f-e5bf-8eeb368a7660"
      },
      "execution_count": 58,
      "outputs": [
        {
          "output_type": "stream",
          "name": "stdout",
          "text": [
            "✅ Cleaned datasets saved successfully!\n"
          ]
        }
      ]
    },
    {
      "cell_type": "markdown",
      "source": [
        "## **References:**\n",
        "\n",
        "ArshKA, & AndhikaWB. (2024). LinkedIn-job-scraper/databasestructure.md at master · arshka/linkedin-job-scraper. GitHub. https://github.com/ArshKA/LinkedIn-Job-Scraper/blob/master/DatabaseStructure.md\n",
        "\n",
        "OpenAI. (2025). Chatgpt. https://chatgpt.com/\n",
        "\n",
        "W3Schools. (2025). Python. W3Schools Online Web Tutorials. https://www.w3schools.com/python/default.asp"
      ],
      "metadata": {
        "id": "qW6KWnnkxLey"
      }
    }
  ]
}